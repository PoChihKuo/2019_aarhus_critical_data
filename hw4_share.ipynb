{
  "cells": [
    {
      "cell_type": "markdown",
      "metadata": {
        "id": "view-in-github",
        "colab_type": "text"
      },
      "source": [
        "<a href=\"https://colab.research.google.com/github/PoChihKuo/2019_aarhus_critical_data/blob/master/hw4_share.ipynb\" target=\"_parent\"><img src=\"https://colab.research.google.com/assets/colab-badge.svg\" alt=\"Open In Colab\"/></a>"
      ]
    },
    {
      "cell_type": "markdown",
      "metadata": {
        "id": "nOvzgb_GuSDT"
      },
      "source": [
        "##**Load-Data**"
      ],
      "id": "nOvzgb_GuSDT"
    },
    {
      "cell_type": "markdown",
      "source": [
        ""
      ],
      "metadata": {
        "id": "PRYs0t7iiLJO"
      },
      "id": "PRYs0t7iiLJO"
    },
    {
      "cell_type": "code",
      "execution_count": null,
      "metadata": {
        "id": "thermal-amateur"
      },
      "outputs": [],
      "source": [
        "import numpy as np\n",
        "import pandas as pd\n",
        "from PIL import Image"
      ],
      "id": "thermal-amateur"
    },
    {
      "cell_type": "code",
      "execution_count": null,
      "metadata": {
        "id": "appreciated-penetration"
      },
      "outputs": [],
      "source": [
        "from google.colab import drive\n",
        "drive.mount('/content/drive')"
      ],
      "id": "appreciated-penetration"
    },
    {
      "cell_type": "code",
      "execution_count": null,
      "metadata": {
        "id": "accepted-italic"
      },
      "outputs": [],
      "source": [
        "!unzip \"HW4_data/public/train_{i}.jpg\""
      ],
      "id": "accepted-italic"
    },
    {
      "cell_type": "code",
      "execution_count": null,
      "metadata": {
        "id": "healthy-filing"
      },
      "outputs": [],
      "source": [
        "X_train = []\n",
        "for i in range(10000):\n",
        "    X_train.append(np.asarray(Image.open(\"drive/MyDrive/ML/hw4/HW4_data/public/train_{i}.jpg\".format(i=i))))\n",
        "    \n",
        "df_train = pd.read_csv(\"drive/MyDrive/ML/hw4/HW4_data/public/train_label.csv\", index_col=0)"
      ],
      "id": "healthy-filing"
    },
    {
      "cell_type": "code",
      "execution_count": null,
      "metadata": {
        "id": "protective-logan"
      },
      "outputs": [],
      "source": [
        "X_val = []\n",
        "for i in range(1000):\n",
        "    X_val.append(np.asarray(Image.open(\"drive/MyDrive/ML/hw4/HW4_data/public/val_{i}.jpg\".format(i=i))))\n",
        "    \n",
        "df_val = pd.read_csv(\"drive/MyDrive/ML/hw4/HW4_data/public/val_label.csv\", index_col=0)"
      ],
      "id": "protective-logan"
    },
    {
      "cell_type": "code",
      "execution_count": null,
      "metadata": {
        "id": "killing-final"
      },
      "outputs": [],
      "source": [
        "X_test = []\n",
        "for i in range(1500):\n",
        "    X_test.append(np.asarray(Image.open(\"drive/MyDrive/ML/hw4/HW4_data/private/test_{i}.jpg\".format(i=i))))\n",
        "\n",
        "df_test_demo = pd.read_csv(\"drive/MyDrive/ML/hw4/HW4_data/private/test_demo.csv\", index_col=0)"
      ],
      "id": "killing-final"
    },
    {
      "cell_type": "markdown",
      "metadata": {
        "id": "9EQr2DxQ5_K0"
      },
      "source": [
        "##**Data-Preprocessing**"
      ],
      "id": "9EQr2DxQ5_K0"
    },
    {
      "cell_type": "code",
      "execution_count": null,
      "metadata": {
        "id": "nopTUf1w5fGx"
      },
      "outputs": [],
      "source": [
        "import pandas as pd\n",
        "import cv2\n",
        "import numpy as np\n",
        "\n",
        "df_train = pd.read_csv('HW4_data/public/train_label.csv')\n",
        "train_image = []\n",
        "\n",
        "for i in range(10000): \n",
        "    img_path = \"HW4_data/public/train_\" + str(i) + \".jpg\"\n",
        "    img_cv2 = cv2.imread(img_path)\n",
        "    image = cv2.resize(img_cv2, dsize=(128, 128), interpolation=cv2.INTER_AREA)\n",
        "    img  = image/255\n",
        "    train_image.append(img)\n",
        "\n",
        "X_train = np.array(train_image)\n",
        "np.save('train', X_train)\n",
        "# print(X.shape)\n",
        "# print(X)\n",
        "\n",
        "df_val = pd.read_csv('HW4_data/public/val_label.csv')\n",
        "val_image = []\n",
        "\n",
        "for i in range(1000): \n",
        "    img_path = \"HW4_data/public/val_\" + str(i) + \".jpg\"\n",
        "    img_cv2 = cv2.imread(img_path)\n",
        "    image = cv2.resize(img_cv2, dsize=(128, 128), interpolation=cv2.INTER_AREA)\n",
        "    img  = image/255\n",
        "    val_image.append(img)\n",
        "\n",
        "X_val = np.array(val_image)\n",
        "np.save('val', X_val)\n",
        "\n",
        "df_test = pd.read_csv('HW4_data/private/test_demo.csv')\n",
        "test_image = []\n",
        "\n",
        "for i in range(1500): \n",
        "    img_path = \"HW4_data/private/test_\" + str(i) + \".jpg\"\n",
        "    img_cv2 = cv2.imread(img_path)\n",
        "    image = cv2.resize(img_cv2, dsize=(128, 128), interpolation=cv2.INTER_AREA)\n",
        "    img  = image/255\n",
        "    test_image.append(img)\n",
        "\n",
        "X_test = np.array(test_image)\n",
        "np.save('test', X_test)\n",
        "\n"
      ],
      "id": "nopTUf1w5fGx"
    },
    {
      "cell_type": "markdown",
      "metadata": {
        "id": "V5NfaFzjcZ9N"
      },
      "source": [
        "##**Load-Data-2**"
      ],
      "id": "V5NfaFzjcZ9N"
    },
    {
      "cell_type": "code",
      "execution_count": null,
      "metadata": {
        "id": "gwJ1VlY2cT6c"
      },
      "outputs": [],
      "source": [
        "import numpy as np\n",
        "import pandas as pd\n",
        "from PIL import Image"
      ],
      "id": "gwJ1VlY2cT6c"
    },
    {
      "cell_type": "code",
      "execution_count": null,
      "metadata": {
        "colab": {
          "base_uri": "https://localhost:8080/"
        },
        "id": "KXKmvop4cUfM",
        "outputId": "05f50adf-b28b-45c3-d92c-fc9a0d9eac1f"
      },
      "outputs": [
        {
          "output_type": "stream",
          "name": "stdout",
          "text": [
            "Drive already mounted at /content/drive; to attempt to forcibly remount, call drive.mount(\"/content/drive\", force_remount=True).\n"
          ]
        }
      ],
      "source": [
        "from google.colab import drive\n",
        "drive.mount('/content/drive')"
      ],
      "id": "KXKmvop4cUfM"
    },
    {
      "cell_type": "code",
      "execution_count": null,
      "metadata": {
        "id": "TLM27eKa49w8"
      },
      "outputs": [],
      "source": [
        "import numpy as np\n",
        "X_Train = np.load('drive/MyDrive/ML/hw4/train.npy')\n",
        "X_Val = np.load('drive/MyDrive/ML/hw4/val.npy')\n",
        "X_Test = np.load('drive/MyDrive/ML/hw4/test.npy')\n",
        "\n",
        "df_train = pd.read_csv(\"drive/MyDrive/ML/hw4/HW4_data/public/train_label.csv\", index_col=0)\n",
        "df_val = pd.read_csv(\"drive/MyDrive/ML/hw4/HW4_data/public/val_label.csv\", index_col=0)\n",
        "df_test_demo = pd.read_csv(\"drive/MyDrive/ML/hw4/HW4_data/private/test_demo.csv\", index_col=0)\n"
      ],
      "id": "TLM27eKa49w8"
    },
    {
      "cell_type": "code",
      "execution_count": null,
      "metadata": {
        "id": "Iir3WkyP7wM5"
      },
      "outputs": [],
      "source": [
        "# X_train = np.array(X_Train[0])\n",
        "# print(X_train)\n",
        "# X_val = np.array(X_Val[0])\n",
        "# print(X_val)\n",
        "# X_test = np.array(X_Test[0])\n",
        "# print(X_test)\n",
        "\n",
        "X_train = X_Train.reshape(X_Train.shape[0], 128, 128, 3)\n",
        "# print(X_train)\n",
        "X_val = X_Val.reshape(X_Val.shape[0], 128, 128, 3)\n",
        "# print(X_val)\n",
        "X_test = X_Test.reshape(X_Test.shape[0], 128, 128, 3)\n",
        "# print(X_test)"
      ],
      "id": "Iir3WkyP7wM5"
    },
    {
      "cell_type": "code",
      "execution_count": null,
      "metadata": {
        "colab": {
          "base_uri": "https://localhost:8080/"
        },
        "id": "LrPeYE4rt9vm",
        "outputId": "3edfe071-4c3c-44a6-b71f-bf1cf3e43ce5"
      },
      "outputs": [
        {
          "output_type": "stream",
          "name": "stdout",
          "text": [
            "2.7.0\n"
          ]
        }
      ],
      "source": [
        "# TensorFlow and tf.keras\n",
        "import tensorflow as tf\n",
        "from tensorflow import keras\n",
        "from tensorflow.keras import Model, Input\n",
        "from tensorflow.keras.layers import Conv2D, MaxPooling2D, Dropout, Flatten, Dense, Concatenate, concatenate\n",
        "from sklearn.metrics import f1_score, roc_curve, RocCurveDisplay, auc\n",
        "\n",
        "# Commonly used modules\n",
        "import numpy as np\n",
        "import os\n",
        "import sys\n",
        "\n",
        "# Images, plots, display, and visualization\n",
        "import matplotlib.pyplot as plt\n",
        "import pandas as pd\n",
        "import seaborn as sns\n",
        "import cv2\n",
        "import IPython\n",
        "from six.moves import urllib\n",
        "\n",
        "print(tf.__version__)"
      ],
      "id": "LrPeYE4rt9vm"
    },
    {
      "cell_type": "markdown",
      "metadata": {
        "id": "1uDYk7kEt_rJ"
      },
      "source": [
        "##**Basic-prediction(50%)**"
      ],
      "id": "1uDYk7kEt_rJ"
    },
    {
      "cell_type": "code",
      "execution_count": null,
      "metadata": {
        "colab": {
          "base_uri": "https://localhost:8080/",
          "height": 141
        },
        "id": "02F9fpSQ7ZCp",
        "outputId": "b6d14087-c658-4396-e400-188ba96590e2"
      },
      "outputs": [
        {
          "output_type": "display_data",
          "data": {
            "image/png": "[encoded data removed]",
            "text/plain": [
              "<Figure size 720x144 with 5 Axes>"
            ]
          },
          "metadata": {}
        }
      ],
      "source": [
        "plt.figure(figsize=(10,2))\n",
        "for i in range(5):\n",
        "    plt.subplot(1,5,i+1)\n",
        "    plt.xticks([])\n",
        "    plt.yticks([])\n",
        "    plt.grid(False)\n",
        "    plt.imshow(X_train[i].reshape(128, 128, 3), cmap=plt.cm.binary)\n",
        "    plt.xlabel(df_train['Edema'][i])"
      ],
      "id": "02F9fpSQ7ZCp"
    },
    {
      "cell_type": "code",
      "execution_count": null,
      "metadata": {
        "id": "GmjUuBgaFp3o"
      },
      "outputs": [],
      "source": [
        "model = keras.Sequential()\n",
        "# 32 convolution filters used each of size 3x3\n",
        "model.add(Conv2D(32, kernel_size=(3, 3), activation='relu', input_shape=(128, 128, 3)))\n",
        "# 64 convolution filters used each of size 3x3\n",
        "\n",
        "model.add(Conv2D(64, (3, 3), activation='relu'))\n",
        "model.add(MaxPooling2D(pool_size=(2, 2)))\n",
        "model.add(Dropout(0.25))\n",
        "\n",
        "model.add(Conv2D(64, (3, 3), activation='relu'))\n",
        "# choose the best features via pooling\n",
        "model.add(MaxPooling2D(pool_size=(2, 2)))\n",
        "# randomly turn neurons on and off to improve convergence\n",
        "model.add(Dropout(0.25))\n",
        "\n",
        "model.add(Conv2D(128, (3, 3), activation='relu'))\n",
        "model.add(MaxPooling2D(pool_size=(2, 2)))\n",
        "model.add(Dropout(0.25))\n",
        "\n",
        "model.add(Conv2D(128, (3, 3), activation='relu'))\n",
        "model.add(MaxPooling2D(pool_size=(2, 2)))\n",
        "model.add(Dropout(0.25))\n",
        "model.add(Conv2D(128, (3, 3), activation='relu'))\n",
        "model.add(MaxPooling2D(pool_size=(2, 2)))\n",
        "model.add(Dropout(0.25))\n",
        "\n",
        "# flatten since too many dimensions, we only want a classification output\n",
        "model.add(Flatten())\n",
        "# fully connected to get all relevant data\n",
        "model.add(Dense(64, activation='relu'))\n",
        "# one more dropout\n",
        "model.add(Dropout(0.5))\n",
        "# output a softmax to squash the matrix into output probabilities\n",
        "model.add(Dense(1, activation='sigmoid'))\n",
        "# model.add(Dense(10, activation='softmax'))"
      ],
      "id": "GmjUuBgaFp3o"
    },
    {
      "cell_type": "code",
      "execution_count": null,
      "metadata": {
        "id": "dfMYlHpiG1BE"
      },
      "outputs": [],
      "source": [
        "# model.compile(optimizer='Adam', \n",
        "#               loss='sparse_categorical_crossentropy',\n",
        "#               metrics=['accuracy'])\n",
        "\n",
        "model.compile(optimizer='Adam', \n",
        "              loss='binary_crossentropy',\n",
        "              metrics=['accuracy'])\n"
      ],
      "id": "dfMYlHpiG1BE"
    },
    {
      "cell_type": "code",
      "execution_count": null,
      "metadata": {
        "colab": {
          "base_uri": "https://localhost:8080/"
        },
        "id": "K1xeSOU_G2Bm",
        "outputId": "38e21a6c-7ebe-43af-9ca7-b4e95c78f94e"
      },
      "outputs": [
        {
          "output_type": "stream",
          "name": "stdout",
          "text": [
            "Model: \"sequential\"\n",
            "_________________________________________________________________\n",
            " Layer (type)                Output Shape              Param #   \n",
            "=================================================================\n",
            " conv2d (Conv2D)             (None, 126, 126, 32)      896       \n",
            "                                                                 \n",
            " conv2d_1 (Conv2D)           (None, 124, 124, 64)      18496     \n",
            "                                                                 \n",
            " max_pooling2d (MaxPooling2D  (None, 62, 62, 64)       0         \n",
            " )                                                               \n",
            "                                                                 \n",
            " dropout (Dropout)           (None, 62, 62, 64)        0         \n",
            "                                                                 \n",
            " conv2d_2 (Conv2D)           (None, 60, 60, 64)        36928     \n",
            "                                                                 \n",
            " max_pooling2d_1 (MaxPooling  (None, 30, 30, 64)       0         \n",
            " 2D)                                                             \n",
            "                                                                 \n",
            " dropout_1 (Dropout)         (None, 30, 30, 64)        0         \n",
            "                                                                 \n",
            " conv2d_3 (Conv2D)           (None, 28, 28, 128)       73856     \n",
            "                                                                 \n",
            " max_pooling2d_2 (MaxPooling  (None, 14, 14, 128)      0         \n",
            " 2D)                                                             \n",
            "                                                                 \n",
            " dropout_2 (Dropout)         (None, 14, 14, 128)       0         \n",
            "                                                                 \n",
            " conv2d_4 (Conv2D)           (None, 12, 12, 128)       147584    \n",
            "                                                                 \n",
            " max_pooling2d_3 (MaxPooling  (None, 6, 6, 128)        0         \n",
            " 2D)                                                             \n",
            "                                                                 \n",
            " dropout_3 (Dropout)         (None, 6, 6, 128)         0         \n",
            "                                                                 \n",
            " conv2d_5 (Conv2D)           (None, 4, 4, 128)         147584    \n",
            "                                                                 \n",
            " max_pooling2d_4 (MaxPooling  (None, 2, 2, 128)        0         \n",
            " 2D)                                                             \n",
            "                                                                 \n",
            " dropout_4 (Dropout)         (None, 2, 2, 128)         0         \n",
            "                                                                 \n",
            " flatten (Flatten)           (None, 512)               0         \n",
            "                                                                 \n",
            " dense (Dense)               (None, 64)                32832     \n",
            "                                                                 \n",
            " dropout_5 (Dropout)         (None, 64)                0         \n",
            "                                                                 \n",
            " dense_1 (Dense)             (None, 1)                 65        \n",
            "                                                                 \n",
            "=================================================================\n",
            "Total params: 458,241\n",
            "Trainable params: 458,241\n",
            "Non-trainable params: 0\n",
            "_________________________________________________________________\n"
          ]
        }
      ],
      "source": [
        "model.summary()"
      ],
      "id": "K1xeSOU_G2Bm"
    },
    {
      "cell_type": "code",
      "execution_count": null,
      "metadata": {
        "id": "brUJTAQ8G7vn",
        "colab": {
          "base_uri": "https://localhost:8080/"
        },
        "outputId": "788d4395-a1c1-4f46-c0c5-fd2cdf7b290d"
      },
      "outputs": [
        {
          "output_type": "stream",
          "name": "stdout",
          "text": [
            "Epoch 1/5\n",
            "313/313 [==============================] - 56s 91ms/step - loss: 0.5279 - accuracy: 0.7402\n",
            "Epoch 2/5\n",
            "313/313 [==============================] - 28s 88ms/step - loss: 0.4379 - accuracy: 0.7918\n",
            "Epoch 3/5\n",
            "313/313 [==============================] - 28s 89ms/step - loss: 0.4180 - accuracy: 0.8100\n",
            "Epoch 4/5\n",
            "313/313 [==============================] - 28s 88ms/step - loss: 0.3936 - accuracy: 0.8216\n",
            "Epoch 5/5\n",
            "313/313 [==============================] - 28s 88ms/step - loss: 0.3835 - accuracy: 0.8257\n"
          ]
        }
      ],
      "source": [
        "history = model.fit(X_train, df_train['Edema'], epochs=5)"
      ],
      "id": "brUJTAQ8G7vn"
    },
    {
      "cell_type": "code",
      "execution_count": null,
      "metadata": {
        "id": "iwEmI-wgHbzY",
        "colab": {
          "base_uri": "https://localhost:8080/"
        },
        "outputId": "6f846af1-8791-4cc6-a79f-c4c0da7e0b78"
      },
      "outputs": [
        {
          "output_type": "stream",
          "name": "stdout",
          "text": [
            "(1000, 128, 128, 3)\n",
            "32/32 [==============================] - 1s 36ms/step - loss: 0.3674 - accuracy: 0.8380\n",
            "Test accuracy: 0.8379999995231628\n",
            "0.8995782216163892 0.30403015\n"
          ]
        },
        {
          "output_type": "execute_result",
          "data": {
            "text/plain": [
              "0.7262569832402234"
            ]
          },
          "metadata": {},
          "execution_count": 10
        }
      ],
      "source": [
        "print(X_val.shape)\n",
        "val_loss, val_acc = model.evaluate(X_val, df_val['Edema'])\n",
        "print('Test accuracy:', val_acc)\n",
        "\n",
        "Y_basic_val = model.predict(X_val)\n",
        "Y_basic_val = pd.DataFrame(Y_basic_val, columns = ['Edema'])\n",
        "\n",
        "fpr_basic, tpr_basic, thresholds_basic =roc_curve(np.array(df_val['Edema']), Y_basic_val['Edema'])\n",
        "roc_auc_basic = auc(fpr_basic, tpr_basic)\n",
        "youden_basic = np.argmax(tpr_basic - fpr_basic)\n",
        "threshold_basic = thresholds_basic[youden_basic] \n",
        "print(roc_auc_basic, threshold_basic)\n",
        "\n",
        "Y_basic_val['Edema'][Y_basic_val['Edema'] >= threshold_basic] = 1\n",
        "Y_basic_val['Edema'][Y_basic_val['Edema'] < threshold_basic] = 0\n",
        "Y_basic_val = Y_basic_val.astype(int)\n",
        "f1_score(np.array(df_val['Edema']), Y_basic_val)"
      ],
      "id": "iwEmI-wgHbzY"
    },
    {
      "cell_type": "code",
      "execution_count": null,
      "metadata": {
        "colab": {
          "base_uri": "https://localhost:8080/"
        },
        "id": "UDDa56P-UJaL",
        "outputId": "71751961-0617-4a0a-eccb-2a8c3d28de40"
      },
      "outputs": [
        {
          "output_type": "stream",
          "name": "stdout",
          "text": [
            "(1500, 128, 128, 3)\n",
            "Basic output: [[0.1614229 ]\n",
            " [0.29702085]\n",
            " [0.02128797]\n",
            " ...\n",
            " [0.2291382 ]\n",
            " [0.1055114 ]\n",
            " [0.5798513 ]]\n"
          ]
        }
      ],
      "source": [
        "print(X_test.shape)\n",
        "Y_basic_output = model.predict(X_test)\n",
        "print('Basic output:', Y_basic_output)\n",
        "\n",
        "output_path = 'drive/MyDrive/ML/hw4/107062317_basic_prediction.csv'\n",
        "# test_pred = pd.DataFrame()\n",
        "basic_test_pred = pd.DataFrame(Y_basic_output, columns = ['Edema'])\n",
        "basic_test_pred['Edema'][basic_test_pred['Edema'] >= threshold_basic] = 1\n",
        "basic_test_pred['Edema'][basic_test_pred['Edema'] < threshold_basic] = 0\n",
        "basic_test_pred = basic_test_pred.astype(int)\n",
        "basic_test_pred.to_csv(output_path, index = True)"
      ],
      "id": "UDDa56P-UJaL"
    },
    {
      "cell_type": "markdown",
      "metadata": {
        "id": "Xkq0MhfaXJYy"
      },
      "source": [
        "##**Bnous-prediction(10%)**"
      ],
      "id": "Xkq0MhfaXJYy"
    },
    {
      "cell_type": "code",
      "source": [
        "# define three sets of inputs\n",
        "input_image = Input(shape=(128, 128, 3))\n",
        "input_age = Input(shape=(1,))\n",
        "input_gender = Input(shape=(1,))\n",
        "# the first branch operates on the first input\n",
        "x_2 = Dense(32, activation=\"relu\")(input_age)\n",
        "x_2 = Dense(8, activation=\"relu\")(input_age)\n",
        "x_2 = Model(inputs=input_age, outputs=x_2)\n",
        "\n",
        "# the second branch opreates on the second input\n",
        "x_3 = Dense(32, activation=\"relu\")(input_gender)\n",
        "x_3 = Dense(8, activation=\"relu\")(input_gender)\n",
        "x_3 = Model(inputs=input_gender, outputs=x_3)\n",
        "\n",
        "# the third branch opreates on the third input\n",
        "x = Conv2D(32, kernel_size=(3, 3), activation='relu', input_shape=(128, 128, 3))(input_image)\n",
        "x = Conv2D(64, (3, 3), activation='relu')(x)\n",
        "x = MaxPooling2D(pool_size=(2, 2))(x)\n",
        "x = Dropout(0.25)(x)\n",
        "x = Conv2D(64, (3, 3), activation='relu')(x)\n",
        "x = MaxPooling2D(pool_size=(2, 2))(x)\n",
        "x = Dropout(0.25)(x)\n",
        "x = Conv2D(128, (3, 3), activation='relu')(x)\n",
        "x = MaxPooling2D(pool_size=(2, 2))(x)\n",
        "x = Dropout(0.25)(x)\n",
        "x = Conv2D(128, (3, 3), activation='relu')(x)\n",
        "x = MaxPooling2D(pool_size=(2, 2))(x)\n",
        "x = Dropout(0.25)(x)\n",
        "x = Conv2D(128, (3, 3), activation='relu')(x)\n",
        "x = MaxPooling2D(pool_size=(2, 2))(x)\n",
        "x = Dropout(0.25)(x)\n",
        "x = Flatten()(x)\n",
        "x = Dense(64, activation='relu')(x)\n",
        "x = Dropout(0.5)(x)\n",
        "x = Dense(8, activation='relu')(x)\n",
        "x = Model(inputs=input_image, outputs=x)\n",
        "# combine the output of the three branches\n",
        "combined = Concatenate(axis=1)([x.output, x_2.output, x_3.output])\n",
        "# apply a FC layer and then a regression prediction on the combined outputs\n",
        "z = Flatten()(combined)\n",
        "z = Dense(4, activation='relu')(z)\n",
        "z = Dropout(0.5)(z)\n",
        "z = Dense(1, activation='sigmoid')(z)\n",
        "# our model will accept the inputs of the three branches and\n",
        "# then output a single value\n",
        "model_1 = Model(inputs=[x.input, x_2.input, x_3.input], outputs=z)"
      ],
      "metadata": {
        "id": "FmOtT_So2GU7"
      },
      "id": "FmOtT_So2GU7",
      "execution_count": null,
      "outputs": []
    },
    {
      "cell_type": "code",
      "source": [
        "model_1.compile(optimizer='Adam', \n",
        "              loss='binary_crossentropy',\n",
        "              metrics=['accuracy'])\n"
      ],
      "metadata": {
        "id": "Xvj_ngiL53mY"
      },
      "id": "Xvj_ngiL53mY",
      "execution_count": null,
      "outputs": []
    },
    {
      "cell_type": "code",
      "source": [
        "model_1.summary()"
      ],
      "metadata": {
        "colab": {
          "base_uri": "https://localhost:8080/"
        },
        "id": "7OGtI-hf58L1",
        "outputId": "1ba7d902-c5d5-4842-9258-ac0a8e2f11fe"
      },
      "id": "7OGtI-hf58L1",
      "execution_count": null,
      "outputs": [
        {
          "output_type": "stream",
          "name": "stdout",
          "text": [
            "Model: \"model_3\"\n",
            "__________________________________________________________________________________________________\n",
            " Layer (type)                   Output Shape         Param #     Connected to                     \n",
            "==================================================================================================\n",
            " input_1 (InputLayer)           [(None, 128, 128, 3  0           []                               \n",
            "                                )]                                                                \n",
            "                                                                                                  \n",
            " conv2d (Conv2D)                (None, 126, 126, 32  896         ['input_1[0][0]']                \n",
            "                                )                                                                 \n",
            "                                                                                                  \n",
            " conv2d_1 (Conv2D)              (None, 124, 124, 64  18496       ['conv2d[0][0]']                 \n",
            "                                )                                                                 \n",
            "                                                                                                  \n",
            " max_pooling2d (MaxPooling2D)   (None, 62, 62, 64)   0           ['conv2d_1[0][0]']               \n",
            "                                                                                                  \n",
            " dropout (Dropout)              (None, 62, 62, 64)   0           ['max_pooling2d[0][0]']          \n",
            "                                                                                                  \n",
            " conv2d_2 (Conv2D)              (None, 60, 60, 64)   36928       ['dropout[0][0]']                \n",
            "                                                                                                  \n",
            " max_pooling2d_1 (MaxPooling2D)  (None, 30, 30, 64)  0           ['conv2d_2[0][0]']               \n",
            "                                                                                                  \n",
            " dropout_1 (Dropout)            (None, 30, 30, 64)   0           ['max_pooling2d_1[0][0]']        \n",
            "                                                                                                  \n",
            " conv2d_3 (Conv2D)              (None, 28, 28, 128)  73856       ['dropout_1[0][0]']              \n",
            "                                                                                                  \n",
            " max_pooling2d_2 (MaxPooling2D)  (None, 14, 14, 128)  0          ['conv2d_3[0][0]']               \n",
            "                                                                                                  \n",
            " dropout_2 (Dropout)            (None, 14, 14, 128)  0           ['max_pooling2d_2[0][0]']        \n",
            "                                                                                                  \n",
            " conv2d_4 (Conv2D)              (None, 12, 12, 128)  147584      ['dropout_2[0][0]']              \n",
            "                                                                                                  \n",
            " max_pooling2d_3 (MaxPooling2D)  (None, 6, 6, 128)   0           ['conv2d_4[0][0]']               \n",
            "                                                                                                  \n",
            " dropout_3 (Dropout)            (None, 6, 6, 128)    0           ['max_pooling2d_3[0][0]']        \n",
            "                                                                                                  \n",
            " conv2d_5 (Conv2D)              (None, 4, 4, 128)    147584      ['dropout_3[0][0]']              \n",
            "                                                                                                  \n",
            " max_pooling2d_4 (MaxPooling2D)  (None, 2, 2, 128)   0           ['conv2d_5[0][0]']               \n",
            "                                                                                                  \n",
            " dropout_4 (Dropout)            (None, 2, 2, 128)    0           ['max_pooling2d_4[0][0]']        \n",
            "                                                                                                  \n",
            " flatten (Flatten)              (None, 512)          0           ['dropout_4[0][0]']              \n",
            "                                                                                                  \n",
            " dense_4 (Dense)                (None, 64)           32832       ['flatten[0][0]']                \n",
            "                                                                                                  \n",
            " dropout_5 (Dropout)            (None, 64)           0           ['dense_4[0][0]']                \n",
            "                                                                                                  \n",
            " input_2 (InputLayer)           [(None, 1)]          0           []                               \n",
            "                                                                                                  \n",
            " input_3 (InputLayer)           [(None, 1)]          0           []                               \n",
            "                                                                                                  \n",
            " dense_5 (Dense)                (None, 8)            520         ['dropout_5[0][0]']              \n",
            "                                                                                                  \n",
            " dense_1 (Dense)                (None, 8)            16          ['input_2[0][0]']                \n",
            "                                                                                                  \n",
            " dense_3 (Dense)                (None, 8)            16          ['input_3[0][0]']                \n",
            "                                                                                                  \n",
            " concatenate (Concatenate)      (None, 24)           0           ['dense_5[0][0]',                \n",
            "                                                                  'dense_1[0][0]',                \n",
            "                                                                  'dense_3[0][0]']                \n",
            "                                                                                                  \n",
            " flatten_1 (Flatten)            (None, 24)           0           ['concatenate[0][0]']            \n",
            "                                                                                                  \n",
            " dense_6 (Dense)                (None, 4)            100         ['flatten_1[0][0]']              \n",
            "                                                                                                  \n",
            " dropout_6 (Dropout)            (None, 4)            0           ['dense_6[0][0]']                \n",
            "                                                                                                  \n",
            " dense_7 (Dense)                (None, 1)            5           ['dropout_6[0][0]']              \n",
            "                                                                                                  \n",
            "==================================================================================================\n",
            "Total params: 458,833\n",
            "Trainable params: 458,833\n",
            "Non-trainable params: 0\n",
            "__________________________________________________________________________________________________\n"
          ]
        }
      ]
    },
    {
      "cell_type": "code",
      "source": [
        "history_1 = model_1.fit([X_train, np.array(df_train['Age']), np.array(df_train['Gender'])], np.array(df_train['Edema']), epochs=5)"
      ],
      "metadata": {
        "colab": {
          "base_uri": "https://localhost:8080/"
        },
        "id": "VhTWOWpL55Gw",
        "outputId": "bdaea00b-1568-47c0-8f87-4c2bbadae506"
      },
      "id": "VhTWOWpL55Gw",
      "execution_count": null,
      "outputs": [
        {
          "output_type": "stream",
          "name": "stdout",
          "text": [
            "Epoch 1/5\n",
            "313/313 [==============================] - 57s 91ms/step - loss: 0.6367 - accuracy: 0.7038\n",
            "Epoch 2/5\n",
            "313/313 [==============================] - 28s 88ms/step - loss: 0.5767 - accuracy: 0.7081\n",
            "Epoch 3/5\n",
            "313/313 [==============================] - 28s 88ms/step - loss: 0.5148 - accuracy: 0.7368\n",
            "Epoch 4/5\n",
            "313/313 [==============================] - 28s 89ms/step - loss: 0.4928 - accuracy: 0.7535\n",
            "Epoch 5/5\n",
            "313/313 [==============================] - 28s 89ms/step - loss: 0.4831 - accuracy: 0.7603\n"
          ]
        }
      ]
    },
    {
      "cell_type": "code",
      "source": [
        "print(X_val.shape)\n",
        "val_loss, val_acc = model_1.evaluate([X_val, np.array(df_val['Age']), np.array(df_val['Gender'])], df_val['Edema'])\n",
        "print('Test accuracy:', val_acc)\n",
        "\n",
        "Y_bonus_val = model_1.predict([X_val, np.array(df_val['Age']), np.array(df_val['Gender'])])\n",
        "Y_bonus_val = pd.DataFrame(Y_bonus_val, columns = ['Edema'])\n",
        "\n",
        "fpr_bonus, tpr_bonus, thresholds_bonus =roc_curve(np.array(df_val['Edema']), Y_bonus_val['Edema'])\n",
        "roc_auc_bonus = auc(fpr_bonus, tpr_bonus)\n",
        "youden_bonus = np.argmax(tpr_bonus - fpr_bonus)\n",
        "threshold_bonus = thresholds_bonus[youden_bonus] \n",
        "print(roc_auc_bonus, threshold_bonus)\n",
        "\n",
        "\n",
        "Y_bonus_val['Edema'][Y_bonus_val['Edema'] >= threshold_bonus] = 1\n",
        "Y_bonus_val['Edema'][Y_bonus_val['Edema'] < threshold_bonus] = 0\n",
        "Y_bonus_val = Y_bonus_val.astype(int)\n",
        "f1_score(np.array(df_val['Edema']), Y_bonus_val)"
      ],
      "metadata": {
        "colab": {
          "base_uri": "https://localhost:8080/"
        },
        "id": "ElJCxxtxGHhw",
        "outputId": "7ae1f51b-3753-4e8c-ddb7-1c566acb7d0a"
      },
      "id": "ElJCxxtxGHhw",
      "execution_count": null,
      "outputs": [
        {
          "output_type": "stream",
          "name": "stdout",
          "text": [
            "(1000, 128, 128, 3)\n",
            "32/32 [==============================] - 2s 39ms/step - loss: 0.3871 - accuracy: 0.8290\n",
            "Test accuracy: 0.8289999961853027\n",
            "0.8971976925660324 0.30718267\n"
          ]
        },
        {
          "output_type": "execute_result",
          "data": {
            "text/plain": [
              "0.7334315169366715"
            ]
          },
          "metadata": {},
          "execution_count": 10
        }
      ]
    },
    {
      "cell_type": "code",
      "source": [
        "print(X_test.shape)\n",
        "Y_bonus_output = model_1.predict([X_test, np.array(df_test_demo['Age']), np.array(df_test_demo['Gender'])])\n",
        "print('Basic output:', Y_bonus_output)\n",
        "\n",
        "output_path = 'drive/MyDrive/ML/hw4/107062317_bonus_prediction.csv'\n",
        "# test_pred = pd.DataFrame()\n",
        "bonus_test_pred = pd.DataFrame(Y_bonus_output, columns = ['Edema'])\n",
        "bonus_test_pred['Edema'][bonus_test_pred['Edema'] >= threshold_bonus] = 1\n",
        "bonus_test_pred['Edema'][bonus_test_pred['Edema'] < threshold_bonus] = 0\n",
        "bonus_test_pred = bonus_test_pred.astype(int)\n",
        "bonus_test_pred.to_csv(output_path, index = True)"
      ],
      "metadata": {
        "colab": {
          "base_uri": "https://localhost:8080/"
        },
        "id": "vcMLIh0BGLtS",
        "outputId": "c5d5f1d0-84a3-4c9b-f032-84ab03ce9d7c"
      },
      "id": "vcMLIh0BGLtS",
      "execution_count": null,
      "outputs": [
        {
          "output_type": "stream",
          "name": "stdout",
          "text": [
            "(1500, 128, 128, 3)\n",
            "Basic output: [[0.10120317]\n",
            " [0.25165033]\n",
            " [0.06844784]\n",
            " ...\n",
            " [0.149106  ]\n",
            " [0.1290708 ]\n",
            " [0.46158326]]\n"
          ]
        }
      ]
    },
    {
      "cell_type": "markdown",
      "metadata": {
        "id": "jzKUo2b4XPoz"
      },
      "source": [
        "##**Advanced-prediction(35%)**"
      ],
      "id": "jzKUo2b4XPoz"
    },
    {
      "cell_type": "code",
      "execution_count": null,
      "metadata": {
        "id": "aMPPPGDzXRt3"
      },
      "outputs": [],
      "source": [
        "model_2 = keras.Sequential()\n",
        "model_2.add(Conv2D(32, kernel_size=(7, 7), activation='relu', input_shape=(128, 128, 3)))\n",
        "\n",
        "model_2.add(Conv2D(64, (3, 3), activation='relu'))\n",
        "model_2.add(MaxPooling2D(pool_size=(2, 2)))\n",
        "model_2.add(Dropout(0.25))\n",
        "model_2.add(Conv2D(128, (3, 3), activation='relu'))\n",
        "model_2.add(MaxPooling2D(pool_size=(2, 2)))\n",
        "model_2.add(Dropout(0.25))\n",
        "# model_2.add(Conv2D(128, (3, 3), activation='relu'))\n",
        "# model_2.add(MaxPooling2D(pool_size=(2, 2)))\n",
        "# model_2.add(Dropout(0.25))\n",
        "model_2.add(Conv2D(128, (3, 3), activation='relu'))\n",
        "model_2.add(MaxPooling2D(pool_size=(2, 2)))\n",
        "model_2.add(Dropout(0.25))\n",
        "model_2.add(Conv2D(256, (3, 3), activation='relu'))\n",
        "model_2.add(MaxPooling2D(pool_size=(2, 2)))\n",
        "model_2.add(Dropout(0.25))\n",
        "\n",
        "model_2.add(Flatten())\n",
        "model_2.add(Dense(512, activation='relu'))\n",
        "model_2.add(Dropout(0.5))\n",
        "model_2.add(Dense(7, activation='sigmoid'))\n"
      ],
      "id": "aMPPPGDzXRt3"
    },
    {
      "cell_type": "code",
      "execution_count": null,
      "metadata": {
        "id": "vg00CvtffoO2"
      },
      "outputs": [],
      "source": [
        "from tensorflow.keras.optimizers import SGD\n",
        "# model.compile(optimizer='Adam', \n",
        "#               loss='sparse_categorical_crossentropy',\n",
        "#               metrics=['accuracy'])\n",
        "# sgd = SGD(lr=0.01, decay=1e-6, momentum=0.9, nesterov=True)\n",
        "# model_2.compile(optimizer=sgd,\n",
        "#               loss='categorical_crossentropy',\n",
        "#               metrics=['accuracy'])\n",
        "\n",
        "model_2.compile(optimizer='Adam', \n",
        "              loss='binary_crossentropy',\n",
        "              metrics=['accuracy'])\n"
      ],
      "id": "vg00CvtffoO2"
    },
    {
      "cell_type": "code",
      "execution_count": null,
      "metadata": {
        "colab": {
          "base_uri": "https://localhost:8080/"
        },
        "id": "KYOg2lTBfvKh",
        "outputId": "027b5fe9-7310-49f1-ffd4-f86c7db1b0a3"
      },
      "outputs": [
        {
          "output_type": "stream",
          "name": "stdout",
          "text": [
            "Model: \"sequential\"\n",
            "_________________________________________________________________\n",
            " Layer (type)                Output Shape              Param #   \n",
            "=================================================================\n",
            " conv2d (Conv2D)             (None, 122, 122, 32)      4736      \n",
            "                                                                 \n",
            " conv2d_1 (Conv2D)           (None, 120, 120, 64)      18496     \n",
            "                                                                 \n",
            " max_pooling2d (MaxPooling2D  (None, 60, 60, 64)       0         \n",
            " )                                                               \n",
            "                                                                 \n",
            " dropout (Dropout)           (None, 60, 60, 64)        0         \n",
            "                                                                 \n",
            " conv2d_2 (Conv2D)           (None, 58, 58, 128)       73856     \n",
            "                                                                 \n",
            " max_pooling2d_1 (MaxPooling  (None, 29, 29, 128)      0         \n",
            " 2D)                                                             \n",
            "                                                                 \n",
            " dropout_1 (Dropout)         (None, 29, 29, 128)       0         \n",
            "                                                                 \n",
            " conv2d_3 (Conv2D)           (None, 27, 27, 128)       147584    \n",
            "                                                                 \n",
            " max_pooling2d_2 (MaxPooling  (None, 13, 13, 128)      0         \n",
            " 2D)                                                             \n",
            "                                                                 \n",
            " dropout_2 (Dropout)         (None, 13, 13, 128)       0         \n",
            "                                                                 \n",
            " conv2d_4 (Conv2D)           (None, 11, 11, 256)       295168    \n",
            "                                                                 \n",
            " max_pooling2d_3 (MaxPooling  (None, 5, 5, 256)        0         \n",
            " 2D)                                                             \n",
            "                                                                 \n",
            " dropout_3 (Dropout)         (None, 5, 5, 256)         0         \n",
            "                                                                 \n",
            " flatten (Flatten)           (None, 6400)              0         \n",
            "                                                                 \n",
            " dense (Dense)               (None, 512)               3277312   \n",
            "                                                                 \n",
            " dropout_4 (Dropout)         (None, 512)               0         \n",
            "                                                                 \n",
            " dense_1 (Dense)             (None, 7)                 3591      \n",
            "                                                                 \n",
            "=================================================================\n",
            "Total params: 3,820,743\n",
            "Trainable params: 3,820,743\n",
            "Non-trainable params: 0\n",
            "_________________________________________________________________\n"
          ]
        }
      ],
      "source": [
        "model_2.summary()"
      ],
      "id": "KYOg2lTBfvKh"
    },
    {
      "cell_type": "code",
      "execution_count": null,
      "metadata": {
        "colab": {
          "base_uri": "https://localhost:8080/"
        },
        "id": "SXhBhlZWfvFv",
        "outputId": "edf1592d-1f9c-48e4-f344-ff494bf27203"
      },
      "outputs": [
        {
          "output_type": "stream",
          "name": "stdout",
          "text": [
            "Epoch 1/5\n",
            "313/313 [==============================] - 59s 105ms/step - loss: 0.4136 - accuracy: 0.6848\n",
            "Epoch 2/5\n",
            "313/313 [==============================] - 32s 103ms/step - loss: 0.3498 - accuracy: 0.7007\n",
            "Epoch 3/5\n",
            "313/313 [==============================] - 32s 104ms/step - loss: 0.3400 - accuracy: 0.7056\n",
            "Epoch 4/5\n",
            "313/313 [==============================] - 32s 103ms/step - loss: 0.3280 - accuracy: 0.7128\n",
            "Epoch 5/5\n",
            "313/313 [==============================] - 32s 102ms/step - loss: 0.3240 - accuracy: 0.7093\n"
          ]
        }
      ],
      "source": [
        "df_Train = df_train.copy()\n",
        "df_Train = df_Train.drop(['Age'], axis=1)\n",
        "df_Train = df_Train.drop(['Gender'], axis=1)\n",
        "df_Train = np.array(df_Train)\n",
        "\n",
        "history_2 = model_2.fit(X_train, df_Train, epochs=5, verbose=1)"
      ],
      "id": "SXhBhlZWfvFv"
    },
    {
      "cell_type": "code",
      "execution_count": null,
      "metadata": {
        "colab": {
          "base_uri": "https://localhost:8080/"
        },
        "id": "HciJoocj7YHf",
        "outputId": "f9c73f7d-f57b-4e0f-c10a-0e61c11f343f"
      },
      "outputs": [
        {
          "output_type": "stream",
          "name": "stdout",
          "text": [
            "(1000, 128, 128, 3)\n",
            "0.8504958047292144 0.15243402\n",
            "0.8603804697554697 0.23430866\n",
            "0.9018599735277267 0.38849962\n",
            "0.8227023461015133 0.21967505\n",
            "0.9027539066358482 0.607123\n",
            "0.879197182224429 0.24376342\n",
            "0.8006881720430109 0.257582\n",
            "32/32 [==============================] - 1s 34ms/step - loss: 0.3061 - accuracy: 0.7320\n",
            "Test accuracy: 0.7319999933242798\n"
          ]
        },
        {
          "output_type": "execute_result",
          "data": {
            "text/plain": [
              "0.7127369860492969"
            ]
          },
          "metadata": {},
          "execution_count": 10
        }
      ],
      "source": [
        "print(X_val.shape)\n",
        "df_Val = df_val.copy()\n",
        "df_Val = df_Val.drop(['Age'], axis=1)\n",
        "df_Val = df_Val.drop(['Gender'], axis=1)\n",
        "\n",
        "\n",
        "Y_advanced_val = model_2.predict(X_val)\n",
        "Y_advanced_val = pd.DataFrame(Y_advanced_val, columns = ['Atelectasis', 'Cardiomegaly', 'Edema', 'Lung Opacity', 'No Finding', 'Pleural Effusion', 'Support Devices'])\n",
        "\n",
        "\n",
        "fpr_1, tpr_1, thresholds_1 =roc_curve(np.array(df_Val['Atelectasis']), Y_advanced_val['Atelectasis'])\n",
        "roc_auc_1 = auc(fpr_1, tpr_1)\n",
        "youden_1 = np.argmax(tpr_1 - fpr_1)\n",
        "threshold_1 = thresholds_1[youden_1] \n",
        "print(roc_auc_1, threshold_1)\n",
        "fpr_2, tpr_2, thresholds_2 =roc_curve(np.array(df_Val['Cardiomegaly']), Y_advanced_val['Cardiomegaly'])\n",
        "roc_auc_2 = auc(fpr_2, tpr_2)\n",
        "youden_2 = np.argmax(tpr_2 - fpr_2)\n",
        "threshold_2 = thresholds_2[youden_2] \n",
        "print(roc_auc_2, threshold_2)\n",
        "fpr_3, tpr_3, thresholds_3 =roc_curve(np.array(df_Val['Edema']), Y_advanced_val['Edema'])\n",
        "roc_auc_3 = auc(fpr_3, tpr_3)\n",
        "youden_3 = np.argmax(tpr_3 - fpr_3)\n",
        "threshold_3 = thresholds_3[youden_3] \n",
        "print(roc_auc_3, threshold_3)\n",
        "fpr_4, tpr_4, thresholds_4 =roc_curve(np.array(df_Val['Lung Opacity']), Y_advanced_val['Lung Opacity'])\n",
        "roc_auc_4 = auc(fpr_4, tpr_4)\n",
        "youden_4 = np.argmax(tpr_4 - fpr_4)\n",
        "threshold_4 = thresholds_4[youden_4] \n",
        "print(roc_auc_4, threshold_4)\n",
        "fpr_5, tpr_5, thresholds_5 =roc_curve(np.array(df_Val['No Finding']), Y_advanced_val['No Finding'])\n",
        "roc_auc_5 = auc(fpr_5, tpr_5)\n",
        "youden_5 = np.argmax(tpr_5 - fpr_5)\n",
        "threshold_5 = thresholds_5[youden_5] \n",
        "print(roc_auc_5, threshold_5)\n",
        "fpr_6, tpr_6, thresholds_6 =roc_curve(np.array(df_Val['Pleural Effusion']), Y_advanced_val['Pleural Effusion'])\n",
        "roc_auc_6 = auc(fpr_6, tpr_6)\n",
        "youden_6 = np.argmax(tpr_6 - fpr_6)\n",
        "threshold_6 = thresholds_6[youden_6] \n",
        "print(roc_auc_6, threshold_6)\n",
        "fpr_7, tpr_7, thresholds_7 =roc_curve(np.array(df_Val['Support Devices']), Y_advanced_val['Support Devices'])\n",
        "roc_auc_7 = auc(fpr_7, tpr_7)\n",
        "youden_7 = np.argmax(tpr_7 - fpr_7)\n",
        "threshold_7 = thresholds_7[youden_7] \n",
        "print(roc_auc_7, threshold_7)\n",
        "\n",
        "df_Val = np.array(df_Val)\n",
        "val_loss_2, val_acc_2 = model_2.evaluate(X_val, df_Val)\n",
        "print('Test accuracy:', val_acc_2)\n",
        "\n",
        "Y_advanced_val['Atelectasis'][Y_advanced_val['Atelectasis'] >= threshold_1] = 1\n",
        "Y_advanced_val['Atelectasis'][Y_advanced_val['Atelectasis'] < threshold_1] = 0\n",
        "Y_advanced_val['Cardiomegaly'][Y_advanced_val['Cardiomegaly'] >= threshold_2] = 1\n",
        "Y_advanced_val['Cardiomegaly'][Y_advanced_val['Cardiomegaly'] < threshold_2] = 0\n",
        "Y_advanced_val['Edema'][Y_advanced_val['Edema'] >= threshold_3] = 1\n",
        "Y_advanced_val['Edema'][Y_advanced_val['Edema'] < threshold_3] = 0\n",
        "Y_advanced_val['Lung Opacity'][Y_advanced_val['Lung Opacity'] >= threshold_4] = 1\n",
        "Y_advanced_val['Lung Opacity'][Y_advanced_val['Lung Opacity'] < threshold_4] = 0\n",
        "Y_advanced_val['No Finding'][Y_advanced_val['No Finding'] >= threshold_5] = 1\n",
        "Y_advanced_val['No Finding'][Y_advanced_val['No Finding'] < threshold_5] = 0\n",
        "Y_advanced_val['Pleural Effusion'][Y_advanced_val['Pleural Effusion'] >= threshold_6] = 1\n",
        "Y_advanced_val['Pleural Effusion'][Y_advanced_val['Pleural Effusion'] < threshold_6] = 0\n",
        "Y_advanced_val['Support Devices'][Y_advanced_val['Support Devices'] >= threshold_7] = 1\n",
        "Y_advanced_val['Support Devices'][Y_advanced_val['Support Devices'] < threshold_7] = 0\n",
        "Y_advanced_val = Y_advanced_val.astype(int)\n",
        "f1_score(np.array(df_Val), Y_advanced_val, average='weighted')"
      ],
      "id": "HciJoocj7YHf"
    },
    {
      "cell_type": "code",
      "execution_count": null,
      "metadata": {
        "colab": {
          "base_uri": "https://localhost:8080/"
        },
        "id": "zw0-ad367d_3",
        "outputId": "7b750dd4-1f68-41a7-c1f9-01e4433873ca"
      },
      "outputs": [
        {
          "output_type": "stream",
          "name": "stdout",
          "text": [
            "(1500, 128, 128, 3)\n",
            "Basic output: [[0.10823049 0.0973262  0.25817513 ... 0.75016904 0.15276067 0.3254125 ]\n",
            " [0.06959286 0.13681582 0.32171926 ... 0.6749472  0.14000578 0.17469604]\n",
            " [0.01010202 0.02020148 0.06861854 ... 0.9288342  0.03124359 0.11414775]\n",
            " ...\n",
            " [0.00605336 0.01439194 0.04412903 ... 0.9558532  0.01313325 0.13945949]\n",
            " [0.02142385 0.03361841 0.1087842  ... 0.89673316 0.03497319 0.09359274]\n",
            " [0.23715037 0.34442878 0.61294633 ... 0.39356676 0.38911933 0.4106613 ]]\n"
          ]
        }
      ],
      "source": [
        "print(X_test.shape)\n",
        "Y_advanced_output = model_2.predict(X_test)\n",
        "print('Basic output:', Y_advanced_output)\n",
        "\n",
        "output_path_2 = 'drive/MyDrive/ML/hw4/107062317_advanced_prediction.csv'\n",
        "# test_pred = pd.DataFrame()\n",
        "advanced_test_pred = pd.DataFrame(Y_advanced_output, columns = ['Atelectasis', 'Cardiomegaly', 'Edema', 'Lung Opacity', 'No Finding', 'Pleural Effusion', 'Support Devices'])\n",
        "advanced_test_pred['Atelectasis'][advanced_test_pred['Atelectasis'] >= threshold_1] = 1\n",
        "advanced_test_pred['Atelectasis'][advanced_test_pred['Atelectasis'] < threshold_1] = 0\n",
        "advanced_test_pred['Cardiomegaly'][advanced_test_pred['Cardiomegaly'] >= threshold_2] = 1\n",
        "advanced_test_pred['Cardiomegaly'][advanced_test_pred['Cardiomegaly'] < threshold_2] = 0\n",
        "advanced_test_pred['Edema'][advanced_test_pred['Edema'] >= threshold_3] = 1\n",
        "advanced_test_pred['Edema'][advanced_test_pred['Edema'] < threshold_3] = 0\n",
        "advanced_test_pred['Lung Opacity'][advanced_test_pred['Lung Opacity'] >= threshold_4] = 1\n",
        "advanced_test_pred['Lung Opacity'][advanced_test_pred['Lung Opacity'] < threshold_4] = 0\n",
        "advanced_test_pred['No Finding'][advanced_test_pred['No Finding'] >= threshold_5] = 1\n",
        "advanced_test_pred['No Finding'][advanced_test_pred['No Finding'] < threshold_5] = 0\n",
        "advanced_test_pred['Pleural Effusion'][advanced_test_pred['Pleural Effusion'] >= threshold_6] = 1\n",
        "advanced_test_pred['Pleural Effusion'][advanced_test_pred['Pleural Effusion'] < threshold_6] = 0\n",
        "advanced_test_pred['Support Devices'][advanced_test_pred['Support Devices'] >= threshold_7] = 1\n",
        "advanced_test_pred['Support Devices'][advanced_test_pred['Support Devices'] < threshold_7] = 0\n",
        "advanced_test_pred = advanced_test_pred.astype(int)\n",
        "advanced_test_pred.to_csv(output_path_2, index = True)"
      ],
      "id": "zw0-ad367d_3"
    },
    {
      "cell_type": "code",
      "source": [
        ""
      ],
      "metadata": {
        "id": "iABi-0eaCN6O"
      },
      "id": "iABi-0eaCN6O",
      "execution_count": null,
      "outputs": []
    }
  ],
  "metadata": {
    "accelerator": "GPU",
    "colab": {
      "collapsed_sections": [],
      "name": "hw4_share.ipynb",
      "provenance": [],
      "include_colab_link": true
    },
    "kernelspec": {
      "display_name": "Python 3",
      "language": "python",
      "name": "python3"
    },
    "language_info": {
      "codemirror_mode": {
        "name": "ipython",
        "version": 3
      },
      "file_extension": ".py",
      "mimetype": "text/x-python",
      "name": "python",
      "nbconvert_exporter": "python",
      "pygments_lexer": "ipython3",
      "version": "3.7.10"
    }
  },
  "nbformat": 4,
  "nbformat_minor": 5
}