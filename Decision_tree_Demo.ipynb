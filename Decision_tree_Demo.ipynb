{
  "nbformat": 4,
  "nbformat_minor": 0,
  "metadata": {
    "colab": {
      "name": "Decision tree Demo.ipynb",
      "provenance": [],
      "collapsed_sections": [],
      "include_colab_link": true
    },
    "kernelspec": {
      "display_name": "Python 3",
      "language": "python",
      "name": "python3"
    },
    "language_info": {
      "codemirror_mode": {
        "name": "ipython",
        "version": 3
      },
      "file_extension": ".py",
      "mimetype": "text/x-python",
      "name": "python",
      "nbconvert_exporter": "python",
      "pygments_lexer": "ipython3",
      "version": "3.8.8"
    }
  },
  "cells": [
    {
      "cell_type": "markdown",
      "metadata": {
        "id": "view-in-github",
        "colab_type": "text"
      },
      "source": [
        "<a href=\"https://colab.research.google.com/github/PoChihKuo/2019_aarhus_critical_data/blob/master/Decision_tree_Demo.ipynb\" target=\"_parent\"><img src=\"https://colab.research.google.com/assets/colab-badge.svg\" alt=\"Open In Colab\"/></a>"
      ]
    },
    {
      "cell_type": "markdown",
      "metadata": {
        "id": "yEtwmT5QNVLn"
      },
      "source": [
        "# **HW2: Decision Tree** \n",
        "\n",
        "\n",
        "Predict the patients' death (hospDIED) in the *MIMIC* dataset using decision tree"
      ]
    },
    {
      "cell_type": "markdown",
      "metadata": {
        "id": "QENWRdMMO3z_"
      },
      "source": [
        "## Load the Example Data\n",
        "First, load the *Restaurant waiting* dataset: **data.csv**"
      ]
    },
    {
      "cell_type": "code",
      "metadata": {
        "colab": {
          "base_uri": "https://localhost:8080/",
          "height": 425
        },
        "id": "cMQ8mdm04rN0",
        "outputId": "f35f3b7b-435a-43e9-cb71-f35cd7ec5c6c"
      },
      "source": [
        "example = pd.read_csv('https://raw.githubusercontent.com/aubreyyy24/HW2_data/main/data.csv')\n",
        "example"
      ],
      "execution_count": null,
      "outputs": [
        {
          "output_type": "execute_result",
          "data": {
            "text/html": [
              "<div>\n",
              "<style scoped>\n",
              "    .dataframe tbody tr th:only-of-type {\n",
              "        vertical-align: middle;\n",
              "    }\n",
              "\n",
              "    .dataframe tbody tr th {\n",
              "        vertical-align: top;\n",
              "    }\n",
              "\n",
              "    .dataframe thead th {\n",
              "        text-align: right;\n",
              "    }\n",
              "</style>\n",
              "<table border=\"1\" class=\"dataframe\">\n",
              "  <thead>\n",
              "    <tr style=\"text-align: right;\">\n",
              "      <th></th>\n",
              "      <th>Unnamed: 0</th>\n",
              "      <th>Alternate</th>\n",
              "      <th>Bar</th>\n",
              "      <th>Friday</th>\n",
              "      <th>Hungry</th>\n",
              "      <th>Patrons</th>\n",
              "      <th>Price</th>\n",
              "      <th>Raining</th>\n",
              "      <th>Reservation</th>\n",
              "      <th>Type</th>\n",
              "      <th>WaitEstimate</th>\n",
              "      <th>Wait</th>\n",
              "    </tr>\n",
              "  </thead>\n",
              "  <tbody>\n",
              "    <tr>\n",
              "      <th>0</th>\n",
              "      <td>X1</td>\n",
              "      <td>T</td>\n",
              "      <td>F</td>\n",
              "      <td>F</td>\n",
              "      <td>T</td>\n",
              "      <td>Some</td>\n",
              "      <td>High</td>\n",
              "      <td>F</td>\n",
              "      <td>T</td>\n",
              "      <td>French</td>\n",
              "      <td>8</td>\n",
              "      <td>T</td>\n",
              "    </tr>\n",
              "    <tr>\n",
              "      <th>1</th>\n",
              "      <td>X2</td>\n",
              "      <td>T</td>\n",
              "      <td>F</td>\n",
              "      <td>F</td>\n",
              "      <td>T</td>\n",
              "      <td>Full</td>\n",
              "      <td>Low</td>\n",
              "      <td>F</td>\n",
              "      <td>F</td>\n",
              "      <td>Thai</td>\n",
              "      <td>40</td>\n",
              "      <td>F</td>\n",
              "    </tr>\n",
              "    <tr>\n",
              "      <th>2</th>\n",
              "      <td>X3</td>\n",
              "      <td>F</td>\n",
              "      <td>T</td>\n",
              "      <td>F</td>\n",
              "      <td>F</td>\n",
              "      <td>Some</td>\n",
              "      <td>Low</td>\n",
              "      <td>F</td>\n",
              "      <td>F</td>\n",
              "      <td>Burger</td>\n",
              "      <td>8</td>\n",
              "      <td>T</td>\n",
              "    </tr>\n",
              "    <tr>\n",
              "      <th>3</th>\n",
              "      <td>X4</td>\n",
              "      <td>T</td>\n",
              "      <td>F</td>\n",
              "      <td>T</td>\n",
              "      <td>T</td>\n",
              "      <td>Full</td>\n",
              "      <td>Low</td>\n",
              "      <td>F</td>\n",
              "      <td>F</td>\n",
              "      <td>Thai</td>\n",
              "      <td>12</td>\n",
              "      <td>T</td>\n",
              "    </tr>\n",
              "    <tr>\n",
              "      <th>4</th>\n",
              "      <td>X5</td>\n",
              "      <td>T</td>\n",
              "      <td>F</td>\n",
              "      <td>T</td>\n",
              "      <td>F</td>\n",
              "      <td>Full</td>\n",
              "      <td>High</td>\n",
              "      <td>F</td>\n",
              "      <td>T</td>\n",
              "      <td>French</td>\n",
              "      <td>70</td>\n",
              "      <td>F</td>\n",
              "    </tr>\n",
              "    <tr>\n",
              "      <th>5</th>\n",
              "      <td>X6</td>\n",
              "      <td>F</td>\n",
              "      <td>T</td>\n",
              "      <td>F</td>\n",
              "      <td>T</td>\n",
              "      <td>Some</td>\n",
              "      <td>Medium</td>\n",
              "      <td>T</td>\n",
              "      <td>T</td>\n",
              "      <td>Italian</td>\n",
              "      <td>3</td>\n",
              "      <td>T</td>\n",
              "    </tr>\n",
              "    <tr>\n",
              "      <th>6</th>\n",
              "      <td>X7</td>\n",
              "      <td>F</td>\n",
              "      <td>T</td>\n",
              "      <td>F</td>\n",
              "      <td>F</td>\n",
              "      <td>None</td>\n",
              "      <td>Low</td>\n",
              "      <td>T</td>\n",
              "      <td>F</td>\n",
              "      <td>Burger</td>\n",
              "      <td>7</td>\n",
              "      <td>F</td>\n",
              "    </tr>\n",
              "    <tr>\n",
              "      <th>7</th>\n",
              "      <td>X8</td>\n",
              "      <td>F</td>\n",
              "      <td>F</td>\n",
              "      <td>F</td>\n",
              "      <td>T</td>\n",
              "      <td>Some</td>\n",
              "      <td>Medium</td>\n",
              "      <td>T</td>\n",
              "      <td>T</td>\n",
              "      <td>Thai</td>\n",
              "      <td>6</td>\n",
              "      <td>T</td>\n",
              "    </tr>\n",
              "    <tr>\n",
              "      <th>8</th>\n",
              "      <td>X9</td>\n",
              "      <td>F</td>\n",
              "      <td>T</td>\n",
              "      <td>T</td>\n",
              "      <td>F</td>\n",
              "      <td>Full</td>\n",
              "      <td>Low</td>\n",
              "      <td>T</td>\n",
              "      <td>F</td>\n",
              "      <td>Burger</td>\n",
              "      <td>80</td>\n",
              "      <td>F</td>\n",
              "    </tr>\n",
              "    <tr>\n",
              "      <th>9</th>\n",
              "      <td>X10</td>\n",
              "      <td>T</td>\n",
              "      <td>T</td>\n",
              "      <td>T</td>\n",
              "      <td>T</td>\n",
              "      <td>Full</td>\n",
              "      <td>High</td>\n",
              "      <td>F</td>\n",
              "      <td>T</td>\n",
              "      <td>Italian</td>\n",
              "      <td>20</td>\n",
              "      <td>F</td>\n",
              "    </tr>\n",
              "    <tr>\n",
              "      <th>10</th>\n",
              "      <td>X11</td>\n",
              "      <td>F</td>\n",
              "      <td>F</td>\n",
              "      <td>F</td>\n",
              "      <td>F</td>\n",
              "      <td>None</td>\n",
              "      <td>Low</td>\n",
              "      <td>F</td>\n",
              "      <td>F</td>\n",
              "      <td>Thai</td>\n",
              "      <td>8</td>\n",
              "      <td>F</td>\n",
              "    </tr>\n",
              "    <tr>\n",
              "      <th>11</th>\n",
              "      <td>X12</td>\n",
              "      <td>T</td>\n",
              "      <td>T</td>\n",
              "      <td>T</td>\n",
              "      <td>T</td>\n",
              "      <td>Full</td>\n",
              "      <td>Low</td>\n",
              "      <td>F</td>\n",
              "      <td>F</td>\n",
              "      <td>Burger</td>\n",
              "      <td>40</td>\n",
              "      <td>T</td>\n",
              "    </tr>\n",
              "  </tbody>\n",
              "</table>\n",
              "</div>"
            ],
            "text/plain": [
              "   Unnamed: 0 Alternate Bar Friday  ... Reservation     Type WaitEstimate Wait\n",
              "0          X1         T   F      F  ...           T   French            8    T\n",
              "1          X2         T   F      F  ...           F     Thai           40    F\n",
              "2          X3         F   T      F  ...           F   Burger            8    T\n",
              "3          X4         T   F      T  ...           F     Thai           12    T\n",
              "4          X5         T   F      T  ...           T   French           70    F\n",
              "5          X6         F   T      F  ...           T  Italian            3    T\n",
              "6          X7         F   T      F  ...           F   Burger            7    F\n",
              "7          X8         F   F      F  ...           T     Thai            6    T\n",
              "8          X9         F   T      T  ...           F   Burger           80    F\n",
              "9         X10         T   T      T  ...           T  Italian           20    F\n",
              "10        X11         F   F      F  ...           F     Thai            8    F\n",
              "11        X12         T   T      T  ...           F   Burger           40    T\n",
              "\n",
              "[12 rows x 12 columns]"
            ]
          },
          "metadata": {},
          "execution_count": 4
        }
      ]
    },
    {
      "cell_type": "code",
      "metadata": {
        "id": "3Kzf-VIW50wi"
      },
      "source": [
        "example = example.drop(['Unnamed: 0'], axis=1)"
      ],
      "execution_count": null,
      "outputs": []
    },
    {
      "cell_type": "code",
      "metadata": {
        "colab": {
          "base_uri": "https://localhost:8080/",
          "height": 425
        },
        "id": "2VZ0rIII1YEV",
        "outputId": "93c872a8-ffa6-463d-f6ae-9e8453ce559f"
      },
      "source": [
        "# change the string categorical to integer labels\n",
        "from sklearn.preprocessing import LabelEncoder\n",
        "labelencoder = LabelEncoder()\n",
        "\n",
        "example['Alternate'] = labelencoder.fit_transform(example['Alternate'])\n",
        "example['Bar'] = labelencoder.fit_transform(example['Bar'])\n",
        "example['Friday'] = labelencoder.fit_transform(example['Friday'])\n",
        "example['Hungry'] = labelencoder.fit_transform(example['Hungry'])\n",
        "example['Patrons'] = labelencoder.fit_transform(example['Patrons'])\n",
        "example['Price'] = labelencoder.fit_transform(example['Price'])\n",
        "example['Raining'] = labelencoder.fit_transform(example['Raining'])\n",
        "example['Reservation'] = labelencoder.fit_transform(example['Reservation'])\n",
        "example['Type'] = labelencoder.fit_transform(example['Type'])\n",
        "\n",
        "example"
      ],
      "execution_count": null,
      "outputs": [
        {
          "output_type": "execute_result",
          "data": {
            "text/html": [
              "<div>\n",
              "<style scoped>\n",
              "    .dataframe tbody tr th:only-of-type {\n",
              "        vertical-align: middle;\n",
              "    }\n",
              "\n",
              "    .dataframe tbody tr th {\n",
              "        vertical-align: top;\n",
              "    }\n",
              "\n",
              "    .dataframe thead th {\n",
              "        text-align: right;\n",
              "    }\n",
              "</style>\n",
              "<table border=\"1\" class=\"dataframe\">\n",
              "  <thead>\n",
              "    <tr style=\"text-align: right;\">\n",
              "      <th></th>\n",
              "      <th>Alternate</th>\n",
              "      <th>Bar</th>\n",
              "      <th>Friday</th>\n",
              "      <th>Hungry</th>\n",
              "      <th>Patrons</th>\n",
              "      <th>Price</th>\n",
              "      <th>Raining</th>\n",
              "      <th>Reservation</th>\n",
              "      <th>Type</th>\n",
              "      <th>WaitEstimate</th>\n",
              "      <th>Wait</th>\n",
              "    </tr>\n",
              "  </thead>\n",
              "  <tbody>\n",
              "    <tr>\n",
              "      <th>0</th>\n",
              "      <td>1</td>\n",
              "      <td>0</td>\n",
              "      <td>0</td>\n",
              "      <td>1</td>\n",
              "      <td>2</td>\n",
              "      <td>0</td>\n",
              "      <td>0</td>\n",
              "      <td>1</td>\n",
              "      <td>1</td>\n",
              "      <td>8</td>\n",
              "      <td>T</td>\n",
              "    </tr>\n",
              "    <tr>\n",
              "      <th>1</th>\n",
              "      <td>1</td>\n",
              "      <td>0</td>\n",
              "      <td>0</td>\n",
              "      <td>1</td>\n",
              "      <td>0</td>\n",
              "      <td>1</td>\n",
              "      <td>0</td>\n",
              "      <td>0</td>\n",
              "      <td>3</td>\n",
              "      <td>40</td>\n",
              "      <td>F</td>\n",
              "    </tr>\n",
              "    <tr>\n",
              "      <th>2</th>\n",
              "      <td>0</td>\n",
              "      <td>1</td>\n",
              "      <td>0</td>\n",
              "      <td>0</td>\n",
              "      <td>2</td>\n",
              "      <td>1</td>\n",
              "      <td>0</td>\n",
              "      <td>0</td>\n",
              "      <td>0</td>\n",
              "      <td>8</td>\n",
              "      <td>T</td>\n",
              "    </tr>\n",
              "    <tr>\n",
              "      <th>3</th>\n",
              "      <td>1</td>\n",
              "      <td>0</td>\n",
              "      <td>1</td>\n",
              "      <td>1</td>\n",
              "      <td>0</td>\n",
              "      <td>1</td>\n",
              "      <td>0</td>\n",
              "      <td>0</td>\n",
              "      <td>3</td>\n",
              "      <td>12</td>\n",
              "      <td>T</td>\n",
              "    </tr>\n",
              "    <tr>\n",
              "      <th>4</th>\n",
              "      <td>1</td>\n",
              "      <td>0</td>\n",
              "      <td>1</td>\n",
              "      <td>0</td>\n",
              "      <td>0</td>\n",
              "      <td>0</td>\n",
              "      <td>0</td>\n",
              "      <td>1</td>\n",
              "      <td>1</td>\n",
              "      <td>70</td>\n",
              "      <td>F</td>\n",
              "    </tr>\n",
              "    <tr>\n",
              "      <th>5</th>\n",
              "      <td>0</td>\n",
              "      <td>1</td>\n",
              "      <td>0</td>\n",
              "      <td>1</td>\n",
              "      <td>2</td>\n",
              "      <td>2</td>\n",
              "      <td>1</td>\n",
              "      <td>1</td>\n",
              "      <td>2</td>\n",
              "      <td>3</td>\n",
              "      <td>T</td>\n",
              "    </tr>\n",
              "    <tr>\n",
              "      <th>6</th>\n",
              "      <td>0</td>\n",
              "      <td>1</td>\n",
              "      <td>0</td>\n",
              "      <td>0</td>\n",
              "      <td>1</td>\n",
              "      <td>1</td>\n",
              "      <td>1</td>\n",
              "      <td>0</td>\n",
              "      <td>0</td>\n",
              "      <td>7</td>\n",
              "      <td>F</td>\n",
              "    </tr>\n",
              "    <tr>\n",
              "      <th>7</th>\n",
              "      <td>0</td>\n",
              "      <td>0</td>\n",
              "      <td>0</td>\n",
              "      <td>1</td>\n",
              "      <td>2</td>\n",
              "      <td>2</td>\n",
              "      <td>1</td>\n",
              "      <td>1</td>\n",
              "      <td>3</td>\n",
              "      <td>6</td>\n",
              "      <td>T</td>\n",
              "    </tr>\n",
              "    <tr>\n",
              "      <th>8</th>\n",
              "      <td>0</td>\n",
              "      <td>1</td>\n",
              "      <td>1</td>\n",
              "      <td>0</td>\n",
              "      <td>0</td>\n",
              "      <td>1</td>\n",
              "      <td>1</td>\n",
              "      <td>0</td>\n",
              "      <td>0</td>\n",
              "      <td>80</td>\n",
              "      <td>F</td>\n",
              "    </tr>\n",
              "    <tr>\n",
              "      <th>9</th>\n",
              "      <td>1</td>\n",
              "      <td>1</td>\n",
              "      <td>1</td>\n",
              "      <td>1</td>\n",
              "      <td>0</td>\n",
              "      <td>0</td>\n",
              "      <td>0</td>\n",
              "      <td>1</td>\n",
              "      <td>2</td>\n",
              "      <td>20</td>\n",
              "      <td>F</td>\n",
              "    </tr>\n",
              "    <tr>\n",
              "      <th>10</th>\n",
              "      <td>0</td>\n",
              "      <td>0</td>\n",
              "      <td>0</td>\n",
              "      <td>0</td>\n",
              "      <td>1</td>\n",
              "      <td>1</td>\n",
              "      <td>0</td>\n",
              "      <td>0</td>\n",
              "      <td>3</td>\n",
              "      <td>8</td>\n",
              "      <td>F</td>\n",
              "    </tr>\n",
              "    <tr>\n",
              "      <th>11</th>\n",
              "      <td>1</td>\n",
              "      <td>1</td>\n",
              "      <td>1</td>\n",
              "      <td>1</td>\n",
              "      <td>0</td>\n",
              "      <td>1</td>\n",
              "      <td>0</td>\n",
              "      <td>0</td>\n",
              "      <td>0</td>\n",
              "      <td>40</td>\n",
              "      <td>T</td>\n",
              "    </tr>\n",
              "  </tbody>\n",
              "</table>\n",
              "</div>"
            ],
            "text/plain": [
              "    Alternate  Bar  Friday  Hungry  ...  Reservation  Type  WaitEstimate  Wait\n",
              "0           1    0       0       1  ...            1     1             8     T\n",
              "1           1    0       0       1  ...            0     3            40     F\n",
              "2           0    1       0       0  ...            0     0             8     T\n",
              "3           1    0       1       1  ...            0     3            12     T\n",
              "4           1    0       1       0  ...            1     1            70     F\n",
              "5           0    1       0       1  ...            1     2             3     T\n",
              "6           0    1       0       0  ...            0     0             7     F\n",
              "7           0    0       0       1  ...            1     3             6     T\n",
              "8           0    1       1       0  ...            0     0            80     F\n",
              "9           1    1       1       1  ...            1     2            20     F\n",
              "10          0    0       0       0  ...            0     3             8     F\n",
              "11          1    1       1       1  ...            0     0            40     T\n",
              "\n",
              "[12 rows x 11 columns]"
            ]
          },
          "metadata": {},
          "execution_count": 6
        }
      ]
    },
    {
      "cell_type": "markdown",
      "metadata": {
        "id": "v3c8J0ABQ7v0"
      },
      "source": [
        "## Calculating the Entropy *(20%)*\n"
      ]
    },
    {
      "cell_type": "code",
      "metadata": {
        "id": "WyGQn_XJnyoc"
      },
      "source": [
        "# split the data by given attribute and its threshold\n",
        "def partition(data, column, threshold):\n",
        "  \"\"\"\n",
        "  The *partition* function will split the input data into 2 branches.\n",
        "    args:\n",
        "    *   data(DataFrame): the input data\n",
        "    *   column(str): the attribute(column name)\n",
        "    *   threshold(float): the column's threshold for splitting the data\n",
        "    returns:\n",
        "    *   match_branch(DataFrame): the divided data that matches the assigned column's threshold\n",
        "    *   false_branch(DataFrame): the divided data that doesn't match the assigned column's threshold\n",
        "  \"\"\"\n",
        "  match_branch = data[data[column]<=threshold]\n",
        "  false_branch = data[data[column]>threshold]\n",
        "  return match_branch, false_branch"
      ],
      "execution_count": null,
      "outputs": []
    },
    {
      "cell_type": "markdown",
      "metadata": {
        "id": "bEzlw4y5AK-7"
      },
      "source": [
        "If we try *partition(example, 'Patrons', 1.5)*:\n",
        "\n",
        "split example to \n",
        "\n",
        "match_left(Patrons<= 1.5) (Patrons != Some) and  \n",
        "false_right(Patrons > 1.5) (Patrons == Some)\n",
        "\n",
        "column: Patrons, threshold: 1.5\n",
        "\n"
      ]
    },
    {
      "cell_type": "code",
      "metadata": {
        "colab": {
          "base_uri": "https://localhost:8080/",
          "height": 241
        },
        "id": "h-5MqfHcJ2Id",
        "outputId": "0d5a3b12-4293-4454-cecd-1cb06a85fbe3"
      },
      "source": [
        "match_left, false_right = partition(example, 'Patrons', 1.5)\n",
        "print(match_left.shape)\n",
        "print(false_right.shape)\n",
        "match_left.head()"
      ],
      "execution_count": null,
      "outputs": [
        {
          "output_type": "stream",
          "name": "stdout",
          "text": [
            "(8, 11)\n",
            "(4, 11)\n"
          ]
        },
        {
          "output_type": "execute_result",
          "data": {
            "text/html": [
              "<div>\n",
              "<style scoped>\n",
              "    .dataframe tbody tr th:only-of-type {\n",
              "        vertical-align: middle;\n",
              "    }\n",
              "\n",
              "    .dataframe tbody tr th {\n",
              "        vertical-align: top;\n",
              "    }\n",
              "\n",
              "    .dataframe thead th {\n",
              "        text-align: right;\n",
              "    }\n",
              "</style>\n",
              "<table border=\"1\" class=\"dataframe\">\n",
              "  <thead>\n",
              "    <tr style=\"text-align: right;\">\n",
              "      <th></th>\n",
              "      <th>Alternate</th>\n",
              "      <th>Bar</th>\n",
              "      <th>Friday</th>\n",
              "      <th>Hungry</th>\n",
              "      <th>Patrons</th>\n",
              "      <th>Price</th>\n",
              "      <th>Raining</th>\n",
              "      <th>Reservation</th>\n",
              "      <th>Type</th>\n",
              "      <th>WaitEstimate</th>\n",
              "      <th>Wait</th>\n",
              "    </tr>\n",
              "  </thead>\n",
              "  <tbody>\n",
              "    <tr>\n",
              "      <th>1</th>\n",
              "      <td>1</td>\n",
              "      <td>0</td>\n",
              "      <td>0</td>\n",
              "      <td>1</td>\n",
              "      <td>0</td>\n",
              "      <td>1</td>\n",
              "      <td>0</td>\n",
              "      <td>0</td>\n",
              "      <td>3</td>\n",
              "      <td>40</td>\n",
              "      <td>F</td>\n",
              "    </tr>\n",
              "    <tr>\n",
              "      <th>3</th>\n",
              "      <td>1</td>\n",
              "      <td>0</td>\n",
              "      <td>1</td>\n",
              "      <td>1</td>\n",
              "      <td>0</td>\n",
              "      <td>1</td>\n",
              "      <td>0</td>\n",
              "      <td>0</td>\n",
              "      <td>3</td>\n",
              "      <td>12</td>\n",
              "      <td>T</td>\n",
              "    </tr>\n",
              "    <tr>\n",
              "      <th>4</th>\n",
              "      <td>1</td>\n",
              "      <td>0</td>\n",
              "      <td>1</td>\n",
              "      <td>0</td>\n",
              "      <td>0</td>\n",
              "      <td>0</td>\n",
              "      <td>0</td>\n",
              "      <td>1</td>\n",
              "      <td>1</td>\n",
              "      <td>70</td>\n",
              "      <td>F</td>\n",
              "    </tr>\n",
              "    <tr>\n",
              "      <th>6</th>\n",
              "      <td>0</td>\n",
              "      <td>1</td>\n",
              "      <td>0</td>\n",
              "      <td>0</td>\n",
              "      <td>1</td>\n",
              "      <td>1</td>\n",
              "      <td>1</td>\n",
              "      <td>0</td>\n",
              "      <td>0</td>\n",
              "      <td>7</td>\n",
              "      <td>F</td>\n",
              "    </tr>\n",
              "    <tr>\n",
              "      <th>8</th>\n",
              "      <td>0</td>\n",
              "      <td>1</td>\n",
              "      <td>1</td>\n",
              "      <td>0</td>\n",
              "      <td>0</td>\n",
              "      <td>1</td>\n",
              "      <td>1</td>\n",
              "      <td>0</td>\n",
              "      <td>0</td>\n",
              "      <td>80</td>\n",
              "      <td>F</td>\n",
              "    </tr>\n",
              "  </tbody>\n",
              "</table>\n",
              "</div>"
            ],
            "text/plain": [
              "   Alternate  Bar  Friday  Hungry  ...  Reservation  Type  WaitEstimate  Wait\n",
              "1          1    0       0       1  ...            0     3            40     F\n",
              "3          1    0       1       1  ...            0     3            12     T\n",
              "4          1    0       1       0  ...            1     1            70     F\n",
              "6          0    1       0       0  ...            0     0             7     F\n",
              "8          0    1       1       0  ...            0     0            80     F\n",
              "\n",
              "[5 rows x 11 columns]"
            ]
          },
          "metadata": {},
          "execution_count": 8
        }
      ]
    },
    {
      "cell_type": "code",
      "metadata": {
        "id": "svjMYA_6VmoN"
      },
      "source": [
        "def entropy(data):\n",
        "  \"\"\"\n",
        "  The *entropy* function will calculate the entropy of the node(data)\n",
        "  args:\n",
        "  *    data(DataFrame): the data you're calculating for the entropy\n",
        "  output:\n",
        "  *    entropy(float): the node(data)'s entropy     \n",
        "  \"\"\"\n",
        "  \n",
        "  waiting_p = data[data['Wait']=='T'].size / data.size\n",
        "  waiting_q = data[data['Wait']=='F'].size / data.size\n",
        "  if(waiting_p == 0 or waiting_q == 0): \n",
        "    entropy = - 1 * np.log2(1)\n",
        "  else:\n",
        "    entropy = - waiting_p * np.log2(waiting_p) - waiting_q * np.log2(waiting_q)\n",
        "  return entropy"
      ],
      "execution_count": null,
      "outputs": []
    },
    {
      "cell_type": "markdown",
      "metadata": {
        "id": "yBvTDwJwfVY7"
      },
      "source": [
        "An example of the output from entropy (Use this to check if your output is correct): "
      ]
    },
    {
      "cell_type": "code",
      "metadata": {
        "colab": {
          "base_uri": "https://localhost:8080/"
        },
        "id": "N_5y1Bz3lx2g",
        "outputId": "c433ccbf-ce50-4fd0-ec21-dafeba70eac6"
      },
      "source": [
        "match, false = partition(example, 'Hungry', 0.5)\n",
        "entropy1 = entropy(match)\n",
        "print(entropy1)"
      ],
      "execution_count": null,
      "outputs": [
        {
          "output_type": "stream",
          "name": "stdout",
          "text": [
            "0.7219280948873623\n"
          ]
        }
      ]
    },
    {
      "cell_type": "code",
      "metadata": {
        "id": "69Vj7RELq7eF"
      },
      "source": [
        "#implementation 1: calculate the entropy of 'false_right' data\n",
        "ans_entropy = entropy(false)"
      ],
      "execution_count": null,
      "outputs": []
    },
    {
      "cell_type": "markdown",
      "metadata": {
        "id": "mR4wP6nOVOUE"
      },
      "source": [
        "## Find the Best Split *(20%)*"
      ]
    },
    {
      "cell_type": "code",
      "metadata": {
        "id": "PVcFND4BG4Zx"
      },
      "source": [
        "# search for the best attribute and the value(threshold) to split the data\n",
        "def findBestSplit(data):\n",
        "    \"\"\"\n",
        "    The *findBestSplit* function finds the best combination of attribute and value(with the largest reduction in entropy) to split the data.\n",
        "    args:\n",
        "    *   data(DataFrame): the data you try to split(build the decision tree)\n",
        "    output:\n",
        "    *   column_best(str): the attribute(column) split with the largest reduction in entropy\n",
        "    *   value_best(float): the value(threshold) of the column_best attribute to split the data\n",
        "    \"\"\"\n",
        "    all_entropy = 9999        #the overall entropy : save the value of the smallest entropy\n",
        "    column_best = 0\n",
        "    value_best = 0\n",
        "\n",
        "    if(entropy(data) == 0):\n",
        "      return column_best, value_best\n",
        "\n",
        "    # Calculate all combinations\n",
        "\n",
        "    # column_temp = np.array(['Alternate', 'Bar', 'Friday', 'Hungry', 'Patrons', 'Patrons', 'Price', 'Price', 'Raining',\t'Reservation', 'Type', 'Type', 'Type', 'WaitEstimate', 'WaitEstimate', 'WaitEstimate', 'WaitEstimate', 'WaitEstimate', 'WaitEstimate', 'WaitEstimate', 'WaitEstimate'])\n",
        "    # value_temp = np.array([0.5, 0.5, 0.5, 0.5, 0.5, 1.5, 0.5, 1.5, 0.5, 0.5, 0.5, 1.5, 2.5, 4.5, 6.5, 7.5, 10, 16, 30, 55, 75])\n",
        "    # total_number = column_temp.size\n",
        "\n",
        "    value_temp = []\n",
        "    column_temp = []\n",
        "    column_name = np.array(['Alternate', 'Bar', 'Friday', 'Hungry', 'Patrons', 'Price', 'Raining', 'Reservation', 'Type', 'WaitEstimate'])\n",
        "\n",
        "    for j in range(0, column_name.size):\n",
        "      data_sort = data\n",
        "      data_sort = data_sort.sort_values(by=[column_name[j]])\n",
        "      data_sort = np.array(data_sort[column_name[j]].to_numpy())\n",
        "      for i in range(1, data_sort.size):\n",
        "        if(data_sort[i] != data_sort[i-1]):\n",
        "          value_temp.append((data_sort[i]+data_sort[i-1])/2)\n",
        "          column_temp.append(column_name[j])\n",
        "    \n",
        "    total_number = np.size(column_temp)\n",
        "    # print(value_temp, column_temp)\n",
        "\n",
        "    # Find the best combination\n",
        "    for i in range(0, total_number):\n",
        "      match_temp, false_temp = partition(data, column_temp[i], value_temp[i])\n",
        "      if(match_temp.empty):\n",
        "        entropy_temp_2 = entropy(false_temp)\n",
        "        entropy_temp = entropy_temp_2*false_temp['Wait'].size / data['Wait'].size\n",
        "      elif(false_temp.empty):\n",
        "        entropy_temp_1 = entropy(match_temp)\n",
        "        entropy_temp = entropy_temp_1*match_temp['Wait'].size / data['Wait'].size\n",
        "      else:\n",
        "        entropy_temp_1 = entropy(match_temp)\n",
        "        entropy_temp_2 = entropy(false_temp)\n",
        "        entropy_temp = (entropy_temp_1*match_temp['Wait'].size + entropy_temp_2*false_temp['Wait'].size) / data['Wait'].size\n",
        "      \n",
        "      if(entropy_temp < all_entropy):\n",
        "        all_entropy = entropy_temp\n",
        "        column_best = column_temp[i]\n",
        "        value_best = value_temp[i]\n",
        "      # print(entropy_temp)\n",
        "      # print(column_temp[i], value_temp[i])\n",
        "\n",
        "    \n",
        "    # print(all_entropy)\n",
        "    return column_best, value_best\n",
        "  "
      ],
      "execution_count": null,
      "outputs": []
    },
    {
      "cell_type": "markdown",
      "metadata": {
        "id": "H73vwEBPfB67"
      },
      "source": [
        "An example of the output from findBestSplit (Use this to check if your output is correct):"
      ]
    },
    {
      "cell_type": "code",
      "metadata": {
        "colab": {
          "base_uri": "https://localhost:8080/"
        },
        "id": "2y9_0MwR9IgH",
        "outputId": "69f16de1-9b33-4aea-9abb-9bcce88c5c5a"
      },
      "source": [
        "column_best, value_best = findBestSplit(match)\n",
        "print(column_best)\n",
        "print(value_best)"
      ],
      "execution_count": null,
      "outputs": [
        {
          "output_type": "stream",
          "name": "stdout",
          "text": [
            "Patrons\n",
            "1.5\n"
          ]
        }
      ]
    },
    {
      "cell_type": "code",
      "metadata": {
        "id": "NNcKR6tf12hn"
      },
      "source": [
        "#implementation 2: Find the best split of the 'match' data\n",
        "ans_column, ans_value = findBestSplit(false)"
      ],
      "execution_count": null,
      "outputs": []
    },
    {
      "cell_type": "markdown",
      "metadata": {
        "id": "hD31mGJuVbAx"
      },
      "source": [
        "## Decision Tree Building *(30%)*\n",
        "\n",
        "Use the above functions to help building the decision tree\n",
        "\n",
        "\n",
        "\n"
      ]
    },
    {
      "cell_type": "code",
      "metadata": {
        "id": "1PHuRhmoIdnV"
      },
      "source": [
        "def buildTree(df, depth):\n",
        "  \"\"\"\n",
        "  The *buildTree* function builds the decision tree\n",
        "  args:\n",
        "  *     df(DataFrame): the data you want to apply the decision tree\n",
        "  *     depth(int) : the depth of your tree\n",
        "  output:\n",
        "  *     decisionSubTree(dict): the decision tree structure including root, branch, leaf(with the attributes and thresholds)\n",
        "  *     features(list): the features(attributes) name in the decision tree structure(from root to branch and leaf)\n",
        "  *     thresholds(list): the corresponding thresholds for the features in the 'features' list\n",
        "  \"\"\"\n",
        "  features = []\n",
        "  thresholds = []\n",
        "  decisionSubTree = {}\n",
        "  if(depth != 0):\n",
        "    data = df\n",
        "    column_best, value_best = findBestSplit(data)\n",
        "    if(column_best==0):\n",
        "      decisionSubTree = ('T')\n",
        "    else:\n",
        "      features.append(column_best)\n",
        "      thresholds.append(value_best)\n",
        "\n",
        "      match, false = partition(data, column_best, value_best)\n",
        "      decisionSubTree_m, features_m, thresholds_m = buildTree(match, depth-1)\n",
        "      decisionSubTree_f, features_f, thresholds_f = buildTree(false, depth-1)\n",
        "      if(features_m != []):\n",
        "        features.extend(features_m)\n",
        "        thresholds.extend(thresholds_m)\n",
        "      if(features_f != []):\n",
        "        features.extend(features_f)\n",
        "        thresholds.extend(thresholds_f)\n",
        "      \n",
        "      key_1 = str(column_best) + ' <= ' + str(value_best)\n",
        "      if(decisionSubTree_m == 'T'):\n",
        "        key_2_m = decisionSubTree_m\n",
        "      else:\n",
        "        key_2_m = ('F', features, thresholds)\n",
        "\n",
        "      if(decisionSubTree_f == 'T'):\n",
        "        key_2_f = decisionSubTree_f\n",
        "      else:\n",
        "        key_2_f = ('F', features, thresholds)\n",
        "\n",
        "      decisionSubTree = {key_1: [key_2_m, key_2_f]}\n",
        "    \n",
        "    \n",
        "  return decisionSubTree, features, thresholds\n",
        "  "
      ],
      "execution_count": null,
      "outputs": []
    },
    {
      "cell_type": "markdown",
      "metadata": {
        "id": "RlmycuRYeo4E"
      },
      "source": [
        "An example of the output from buildTree (Use this to check if your output is correct): "
      ]
    },
    {
      "cell_type": "code",
      "metadata": {
        "colab": {
          "base_uri": "https://localhost:8080/"
        },
        "id": "HwaWdJ2KaFnz",
        "outputId": "5b0cf316-5e13-48df-940f-0b0eb3ae41c1"
      },
      "source": [
        "tree, features, thresholds= buildTree(example, 2)\n",
        "print(tree)\n",
        "print(features)\n",
        "print(thresholds)"
      ],
      "execution_count": null,
      "outputs": [
        {
          "output_type": "stream",
          "name": "stdout",
          "text": [
            "{'Patrons <= 1.5': [('F', ['Patrons', 'Hungry'], [1.5, 0.5]), 'T']}\n",
            "['Patrons', 'Hungry']\n",
            "[1.5, 0.5]\n"
          ]
        }
      ]
    },
    {
      "cell_type": "code",
      "metadata": {
        "id": "S7LcV0jwrvGW"
      },
      "source": [
        "#implementation 3: decision tree building (depth=10)\n",
        "ans_tree, ans_features, ans_thresholds = buildTree(example,10)"
      ],
      "execution_count": null,
      "outputs": []
    },
    {
      "cell_type": "code",
      "metadata": {
        "id": "oz_UrVDQr0ZO",
        "colab": {
          "base_uri": "https://localhost:8080/"
        },
        "outputId": "a8ecdacb-84d9-4f75-c6d1-31314aad4ee1"
      },
      "source": [
        "#save implementation csv\n",
        "ans_path = STUDENT_ID + '_implementation.csv'\n",
        "\n",
        "imp = []\n",
        "imp.append(ans_entropy)\n",
        "imp.append(ans_column)\n",
        "imp.append(ans_value)\n",
        "for i in range(len(ans_features)):\n",
        "  imp.append(ans_features[i])\n",
        "for m in range(len(ans_thresholds)):\n",
        "  imp.append(ans_thresholds[m])\n",
        "print(imp)\n",
        "pd.DataFrame(imp).to_csv(ans_path, header = None, index = None)"
      ],
      "execution_count": null,
      "outputs": [
        {
          "output_type": "stream",
          "name": "stdout",
          "text": [
            "[0.863120568566631, 'WaitEstimate', 16.0, 'Patrons', 'Hungry', 'Friday', 'Price', 1.5, 0.5, 0.5, 0.5]\n"
          ]
        }
      ]
    },
    {
      "cell_type": "markdown",
      "metadata": {
        "id": "tniHsNdk6vH5"
      },
      "source": [
        "# **2. Classification with the MIMIC Dataset**\n",
        "In the second part, you need to classify **'hospDIED'(death)** in the MIMIC dataset.\n",
        "\n",
        "Please put the classification result in a csv file. (**[STUDENTID]_prediction.csv**)\n",
        "\n",
        "**Note:** Decision tree is recommended but not mandatory."
      ]
    },
    {
      "cell_type": "markdown",
      "metadata": {
        "id": "yr3B7qWCW6mX"
      },
      "source": [
        "## Prediction (Performance) *(20%)*\n",
        "\n",
        "The **y_test** (hospDIED) of this data is hidden, you need to use the x_test.csv to predict the y_test.\n",
        "\n",
        "**Note:** You **can** now import the packages you need here!"
      ]
    },
    {
      "cell_type": "markdown",
      "metadata": {
        "id": "luEGVyG44_Xe"
      },
      "source": [
        "Get the MIMIC data here!\n",
        "\n",
        "Data Description: \n",
        "\n",
        "[Data Description](https://docs.google.com/spreadsheets/d/1pxqxQFhIcv_hrgWEtwhXE6zBVQ5ISa-13PIhvXMtWCY/edit?usp=sharing) (You can find the data description here.)\n",
        "\n",
        "**Note:**\n",
        "*   You can select the features you want to use.\n",
        "*   You can use any ML models to predict the y_test.\n",
        "\n",
        "  (However, there is a 10% bonus if you **visualize** the decision tree in this part)\n",
        "\n",
        "\n",
        "[ref]: *Johnson, A. E. W., Pollard, T. J., Shen, L., Lehman, L. H., Feng, M., Ghassemi, M., Moody, B., Szolovits, P., Celi, L. A., & Mark, R. G. (2016). MIMIC-III, a freely accessible critical care database. Scientific Data, 3, 160035.*\n"
      ]
    },
    {
      "cell_type": "code",
      "metadata": {
        "id": "COe36S4wc-_x"
      },
      "source": [
        "#Read data\n",
        "x_train = pd.read_csv('https://raw.githubusercontent.com/aubreyyy24/HW2_data/main/x_train.csv')\n",
        "y_train = pd.read_csv('https://raw.githubusercontent.com/aubreyyy24/HW2_data/main/y_train.csv')\n",
        "x_train.head()\n",
        "x_train = x_train.drop(['indextime', 'ethnicity'], axis=1)"
      ],
      "execution_count": null,
      "outputs": []
    },
    {
      "cell_type": "markdown",
      "metadata": {
        "id": "N2nP69qKhFsB"
      },
      "source": [
        "Complete your model with validation:"
      ]
    },
    {
      "cell_type": "code",
      "metadata": {
        "id": "nUcloPGehlTp",
        "colab": {
          "base_uri": "https://localhost:8080/"
        },
        "outputId": "3149424d-4608-45cc-ab8d-b1aa7428739c"
      },
      "source": [
        "#Split the data into training and validation sets\n",
        "#Build you model and evaluate it on your validation set\n",
        "\n",
        "from sklearn.datasets import load_iris\n",
        "from sklearn import tree\n",
        "from sklearn.model_selection import train_test_split\n",
        "from sklearn.tree import DecisionTreeClassifier, export_graphviz\n",
        "from sklearn.metrics import accuracy_score \n",
        "\n",
        "x_training, x_validation, y_training, y_validation = train_test_split(x_train, y_train, test_size = 0.3, stratify=y_train)\n",
        "\n",
        "decision_tree_clf = DecisionTreeClassifier(criterion='entropy')\n",
        "decision_tree = decision_tree_clf.fit(x_train, y_train)\n",
        "y_prediction = decision_tree.predict(x_validation)\n",
        "\n",
        "print(y_prediction)\n",
        "print(y_validation['hospDIED'].to_numpy())\n",
        "accuracy = accuracy_score(y_prediction, y_validation['hospDIED'].to_numpy())\n",
        "print(accuracy)"
      ],
      "execution_count": null,
      "outputs": [
        {
          "output_type": "stream",
          "name": "stdout",
          "text": [
            "[0 0 1 ... 0 0 0]\n",
            "[0 0 1 ... 0 0 0]\n",
            "1.0\n"
          ]
        }
      ]
    },
    {
      "cell_type": "markdown",
      "metadata": {
        "id": "V6MagTAmhURi"
      },
      "source": [
        "Make the final prediction from your model:"
      ]
    },
    {
      "cell_type": "code",
      "metadata": {
        "id": "sGpSxmOBDYAG"
      },
      "source": [
        "x_test = pd.read_csv('https://raw.githubusercontent.com/aubreyyy24/HW2_data/main/x_test.csv')\n",
        "x_test = x_test.drop(['indextime', 'ethnicity'], axis=1)\n",
        "# y_pred = "
      ],
      "execution_count": null,
      "outputs": []
    },
    {
      "cell_type": "code",
      "metadata": {
        "id": "k3zecXTLFJci"
      },
      "source": [
        "#final prediction with your decision tree(optional)\n",
        "def treePredictions(df, d_tree):\n",
        "  \n",
        "  predictions = d_tree.predict(df)\n",
        "  return predictions\n",
        "\n",
        "y_pred = treePredictions(x_test, decision_tree)"
      ],
      "execution_count": null,
      "outputs": []
    },
    {
      "cell_type": "markdown",
      "metadata": {
        "id": "zocBlOKdgaO8"
      },
      "source": [
        "To export your predcition as a CSV file and hand in the CSV on elearn"
      ]
    },
    {
      "cell_type": "code",
      "metadata": {
        "id": "8YOjsyVmDA1s"
      },
      "source": [
        "output_path = STUDENT_ID + '_prediction.csv'\n",
        "\n",
        "tree_test_pred = pd.DataFrame( {'subject_id': x_test.subject_id,\n",
        "                  'prediction': y_pred } )\n",
        "tree_test_pred.to_csv(output_path, index = False)"
      ],
      "execution_count": null,
      "outputs": []
    },
    {
      "cell_type": "markdown",
      "metadata": {
        "id": "aMh7DF47XV4k"
      },
      "source": [
        "## Visualizing the Decision Tree *(10% bonus)*\n",
        "\n",
        "**Note:** Save the visualization result image as **[STUDENT_ID]_visualization.png**\n",
        "\n",
        "*   Your visualization image of the decision tree can contain **five** layers at most.\n"
      ]
    },
    {
      "cell_type": "code",
      "metadata": {
        "id": "2tr0cSuooJpc",
        "colab": {
          "base_uri": "https://localhost:8080/",
          "height": 35
        },
        "outputId": "9d9b69d7-3b8f-48b6-c788-0354992e3e31"
      },
      "source": [
        "#Decision Tree Visualization\n",
        "from graphviz import Source\n",
        "# dot_data = export_graphviz(decision_tree, out_file=None) \n",
        "# graph = graphviz.Source(dot_data)\n",
        "\n",
        "dead_or_not = ['0', '1']\n",
        "hosp_feature = list(x_train.columns)\n",
        "\n",
        "graph = Source(tree.export_graphviz(decision_tree, out_file=None, max_depth=4, filled=True, rounded=True, special_characters=True, feature_names=hosp_feature, class_names=dead_or_not))\n",
        "graph.format = 'png'\n",
        "graph.render(\"107062317_visualization\", view=True) "
      ],
      "execution_count": null,
      "outputs": [
        {
          "output_type": "execute_result",
          "data": {
            "application/vnd.google.colaboratory.intrinsic+json": {
              "type": "string"
            },
            "text/plain": [
              "'107062317_visualization.png'"
            ]
          },
          "metadata": {},
          "execution_count": 53
        }
      ]
    },
    {
      "cell_type": "markdown",
      "metadata": {
        "id": "nU6YmzzrsaNl"
      },
      "source": [
        "# Report *(10%)*\n",
        "\n",
        "Report should be submitted as a pdf file! (**[STUDENT_ID]_report.pdf**)\n",
        "\n",
        "*   List the top 3 splitting features and their thresholds of your model\n",
        "*   Briefly describe how you build the decision tree\n",
        "*   Describe if you apply any improvement on your decision tree model\n",
        "*   If you preprocess the MIMIC data in the second part (selecting features...), describe the work and reasons\n",
        "*   Summarize your work\n",
        "*   Do not exceed 2 pages!\n",
        "\n",
        "\n",
        "\n",
        "\n"
      ]
    },
    {
      "cell_type": "markdown",
      "metadata": {
        "id": "JkqzcPNazBKd"
      },
      "source": [
        "# Save the Code File\n",
        "Please save your code and submit it as an ipynb file! (**[STUDENT_ID]_hw2.ipynb**)"
      ]
    }
  ]
}